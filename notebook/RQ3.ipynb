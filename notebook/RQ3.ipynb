{
 "cells": [
  {
   "cell_type": "code",
   "execution_count": null,
   "metadata": {},
   "outputs": [],
   "source": [
    "import sys  \n",
    "sys.path.insert(0, '../search-engine')\n",
    "from utils import *\n",
    "import pandas as pd\n",
    "from igraph import *"
   ]
  },
  {
   "cell_type": "code",
   "execution_count": 38,
   "metadata": {},
   "outputs": [],
   "source": [
    "# get data \n",
    "data = get_tweets(None, None, mode = \"read\", data_directory = '../data/')"
   ]
  },
  {
   "cell_type": "code",
   "execution_count": 152,
   "metadata": {},
   "outputs": [],
   "source": [
    "# since igraph does not use node ids -> we need to create a dict storing the conversion\n",
    "ids_mapping = {}\n",
    "counter = 0\n",
    "for tweet in data:\n",
    "    if \"retweeted_status\" in tweet.keys():\n",
    "        if tweet[\"user\"][\"id\"] not in ids_mapping.keys():\n",
    "            ids_mapping[tweet[\"user\"][\"id\"]] = counter\n",
    "            counter += 1"
   ]
  },
  {
   "cell_type": "code",
   "execution_count": 153,
   "metadata": {},
   "outputs": [],
   "source": [
    "retweets = {}\n",
    "for i, tweet in enumerate(data): \n",
    "    try: \n",
    "        id2 = ids_mapping[tweet[\"retweeted_status\"][\"user\"][\"id\"]]        \n",
    "        id1 = ids_mapping[tweet[\"user\"][\"id\"]]\n",
    "        try: retweets[id1].append(id2)\n",
    "        except: retweets[id1] = [id2]\n",
    "    except: \n",
    "        continue"
   ]
  },
  {
   "cell_type": "code",
   "execution_count": 154,
   "metadata": {},
   "outputs": [],
   "source": [
    "edgelist = []\n",
    "for node in retweets:\n",
    "    for i in retweets[node]:\n",
    "        edgelist.append((node, i))"
   ]
  },
  {
   "cell_type": "code",
   "execution_count": 160,
   "metadata": {},
   "outputs": [],
   "source": [
    "g = Graph(n = len(ids_mapping))\n",
    "g.add_edges(edgelist)"
   ]
  },
  {
   "cell_type": "code",
   "execution_count": null,
   "metadata": {},
   "outputs": [],
   "source": [
    "plot(g, layout = g.layout(\"kk\"))"
   ]
  },
  {
   "cell_type": "code",
   "execution_count": null,
   "metadata": {},
   "outputs": [],
   "source": [
    "# node -> users\n",
    "# directed edge -> u->v: u retweeted at least once v"
   ]
  },
  {
   "cell_type": "code",
   "execution_count": null,
   "metadata": {},
   "outputs": [],
   "source": []
  }
 ],
 "metadata": {
  "kernelspec": {
   "display_name": "Python 3",
   "language": "python",
   "name": "python3"
  },
  "language_info": {
   "codemirror_mode": {
    "name": "ipython",
    "version": 3
   },
   "file_extension": ".py",
   "mimetype": "text/x-python",
   "name": "python",
   "nbconvert_exporter": "python",
   "pygments_lexer": "ipython3",
   "version": "3.7.4"
  }
 },
 "nbformat": 4,
 "nbformat_minor": 2
}
