{
 "cells": [
  {
   "cell_type": "code",
   "execution_count": 257,
   "metadata": {},
   "outputs": [],
   "source": [
    "import sys  \n",
    "sys.path.insert(0, '../search-engine')\n",
    "from utils import *\n",
    "import pandas as pd\n",
    "from igraph import *\n",
    "import implicit\n",
    "from scipy.sparse import csr_matrix\n",
    "from sklearn.metrics import ndcg_score\n",
    "from copy import deepcopy"
   ]
  },
  {
   "cell_type": "markdown",
   "metadata": {},
   "source": [
    "## Create graph"
   ]
  },
  {
   "cell_type": "code",
   "execution_count": 30,
   "metadata": {},
   "outputs": [],
   "source": [
    "# get data \n",
    "data = get_tweets(None, None, mode = \"read\", data_directory = '../data/')"
   ]
  },
  {
   "cell_type": "code",
   "execution_count": 38,
   "metadata": {},
   "outputs": [],
   "source": [
    "# since igraph does not use node ids -> we need to create a dict storing the conversion\n",
    "ids_mapping = {}\n",
    "hashtags = {}\n",
    "counter = 0\n",
    "for tweet in data:\n",
    "    if \"retweeted_status\" in tweet.keys():\n",
    "        if tweet[\"user\"][\"id\"] not in ids_mapping.keys():\n",
    "            ids_mapping[tweet[\"user\"][\"id\"]] = counter            \n",
    "            counter += 1"
   ]
  },
  {
   "cell_type": "code",
   "execution_count": 256,
   "metadata": {},
   "outputs": [],
   "source": [
    "retweets = {}\n",
    "hashtags = {} \n",
    "for i, tweet in enumerate(data): \n",
    "    try: \n",
    "        id2 = ids_mapping[tweet[\"retweeted_status\"][\"user\"][\"id\"]]        \n",
    "        id1 = ids_mapping[tweet[\"user\"][\"id\"]]\n",
    "        try: retweets[id1].append(id2)\n",
    "        except: retweets[id1] = [id2]\n",
    "        \n",
    "        if id1 not in hashtags.keys(): hashtags[id1] = []\n",
    "        if id2 not in hashtags.keys(): hashtags[id2] = []\n",
    "        \n",
    "        # store hashtags list for each user for personalized score\n",
    "        for hashtag in tweet[\"entities\"][\"hashtags\"]:\n",
    "            hashtags[id1].append(hashtag[\"text\"])\n",
    "            hashtags[id2].append(hashtag[\"text\"])\n",
    "    except: \n",
    "        continue"
   ]
  },
  {
   "cell_type": "code",
   "execution_count": 40,
   "metadata": {},
   "outputs": [],
   "source": [
    "edgelist = []\n",
    "for node in retweets:\n",
    "    for i in retweets[node]:\n",
    "        edgelist.append((node, i))\n",
    "edgelist = list(set(edgelist)) # remove duplicated links"
   ]
  },
  {
   "cell_type": "code",
   "execution_count": 45,
   "metadata": {},
   "outputs": [],
   "source": [
    "g = Graph(n = len(ids_mapping))\n",
    "g.add_edges(edgelist)"
   ]
  },
  {
   "cell_type": "markdown",
   "metadata": {},
   "source": [
    "Split graph into train and test"
   ]
  },
  {
   "cell_type": "code",
   "execution_count": 47,
   "metadata": {},
   "outputs": [],
   "source": [
    "# fraction of edges to select as test-set\n",
    "p = 0.2\n",
    "\n",
    "# graphsize\n",
    "N = len(g.es)\n",
    "\n",
    "# idxs of all the edges\n",
    "all_idxs = range(N)\n",
    "\n",
    "# sample idxs of edges through the function \"choice\"\n",
    "test_idxs = np.random.choice(a=all_idxs, size=int(p*N),replace=False)"
   ]
  },
  {
   "cell_type": "code",
   "execution_count": 112,
   "metadata": {},
   "outputs": [],
   "source": [
    "ground_truth = set()\n",
    "trainset = set()\n",
    "for idx, one_edge in enumerate(g.es):\n",
    "    \n",
    "    # take n1 and n2 idx from one_edge, that is an igraph edge *object*\n",
    "    n1 = one_edge.source\n",
    "    n2 = one_edge.target\n",
    "\n",
    "    if idx in test_idxs:\n",
    "        ground_truth.add((n1, n2))\n",
    "    else:\n",
    "        trainset.add((n1, n2))"
   ]
  },
  {
   "cell_type": "code",
   "execution_count": 62,
   "metadata": {},
   "outputs": [],
   "source": [
    "# test_idxs --> nodes q formen part del test\n",
    "# ground_truth --> links entre els nodes del test set\n",
    "# trainset --> links entre els nodes del train set "
   ]
  },
  {
   "cell_type": "code",
   "execution_count": 113,
   "metadata": {},
   "outputs": [],
   "source": [
    "def find_nodes_at_distance_2(graph):\n",
    "    \"\"\"\n",
    "    starting from a graph this function returns all the nodes at distance 2\n",
    "    \"\"\"\n",
    "    all_potential_recommendations = set()\n",
    "    \n",
    "    for n1 in graph.vs:\n",
    "        # all the nodes at distance 1 and distance 2\n",
    "        nodes_at_most_distant_2 = set(graph.neighborhood(n1, order = 2))\n",
    "            \n",
    "        if len(nodes_at_most_distant_2) > 0:\n",
    "            for n2 in nodes_at_most_distant_2: \n",
    "                # since n1 is an igraph vertex object, we need to extract the id\n",
    "                n1_index = n1.index\n",
    "                if n2 != n1_index: \n",
    "                    a = min(n2, n1_index)\n",
    "                    b = max(n2, n1_index)\n",
    "                    all_potential_recommendations.add((a,b))\n",
    "                \n",
    "    return list(set(all_potential_recommendations))"
   ]
  },
  {
   "cell_type": "markdown",
   "metadata": {},
   "source": [
    "Get nodes at distance 2 for future prediction"
   ]
  },
  {
   "cell_type": "code",
   "execution_count": 114,
   "metadata": {},
   "outputs": [],
   "source": [
    "# Get nodes at distance 2 in test set\n",
    "dist_2 = find_nodes_at_distance_2(g)\n",
    "test_nodes = [(u,v) for u, v in dist_2 if (u in test_idxs) and (v in test_idxs)]"
   ]
  },
  {
   "cell_type": "code",
   "execution_count": 125,
   "metadata": {},
   "outputs": [],
   "source": [
    "# Create dataframe with ground truth\n",
    "test_list = []\n",
    "for u, v in test_nodes: \n",
    "    if (u, v) in ground_truth: test_list.append((u,v,1))\n",
    "    else: test_list.append((u,v,0))\n",
    "        \n",
    "test_df = pd.DataFrame(test_list, columns = [\"u\", \"v\", \"ground_truth\"])"
   ]
  },
  {
   "cell_type": "markdown",
   "metadata": {},
   "source": [
    "## Adamic-Adar"
   ]
  },
  {
   "cell_type": "code",
   "execution_count": 63,
   "metadata": {},
   "outputs": [],
   "source": [
    "def compute_ADA(u,v, graph):\n",
    "    \"\"\"\n",
    "    compute adamic-adar from scratch\n",
    "    \"\"\"\n",
    "    # set of neighbors of u\n",
    "    outlinks_from_u = set(graph.neighbors(u))\n",
    "    # set of neighbors of v\n",
    "    inlinks_to_v = set(graph.neighbors(v))\n",
    "    \n",
    "    # set Z of neighbors of both\n",
    "    bridges = outlinks_from_u.intersection(inlinks_to_v)\n",
    "    \n",
    "    # degree of nodes in set Z\n",
    "    deg_ = [graph.degree(node) for node in bridges]\n",
    "    \n",
    "    # computing the reciprocal in log-scale\n",
    "    out = [1./np.log2(dd+1) for dd in deg_]\n",
    "\n",
    "    return sum(out)"
   ]
  },
  {
   "cell_type": "code",
   "execution_count": 158,
   "metadata": {},
   "outputs": [],
   "source": [
    "pred_ADA = []\n",
    "# Predictions\n",
    "for i, row in test_df.iterrows():\n",
    "    pred = compute_ADA(int(row[\"u\"]), int(row[\"v\"]), g)\n",
    "    pred_ADA.append(pred)\n",
    "test_df[\"ADA\"] = pred_ADA"
   ]
  },
  {
   "cell_type": "markdown",
   "metadata": {},
   "source": [
    "<font color = \"Red\">\n",
    "    \n",
    "    \n",
    "**CALCULAR nDCG**\n",
    "    "
   ]
  },
  {
   "cell_type": "markdown",
   "metadata": {},
   "source": [
    "## ALS"
   ]
  },
  {
   "cell_type": "code",
   "execution_count": null,
   "metadata": {},
   "outputs": [],
   "source": [
    "# Get the adjacency matrix data\n",
    "M = g.get_adjacency().data"
   ]
  },
  {
   "cell_type": "code",
   "execution_count": 151,
   "metadata": {},
   "outputs": [],
   "source": [
    "M = csr_matrix(M)"
   ]
  },
  {
   "cell_type": "code",
   "execution_count": 152,
   "metadata": {},
   "outputs": [
    {
     "name": "stderr",
     "output_type": "stream",
     "text": [
      "WARNING:root:Intel MKL BLAS detected. Its highly recommend to set the environment variable 'export MKL_NUM_THREADS=1' to disable its internal multithreading\n"
     ]
    },
    {
     "data": {
      "application/vnd.jupyter.widget-view+json": {
       "model_id": "5a70fec5959f4ae4bd4d67fefe8d8ca2",
       "version_major": 2,
       "version_minor": 0
      },
      "text/plain": [
       "HBox(children=(HTML(value=''), FloatProgress(value=0.0, max=5.0), HTML(value='')))"
      ]
     },
     "metadata": {},
     "output_type": "display_data"
    },
    {
     "name": "stdout",
     "output_type": "stream",
     "text": [
      "\n"
     ]
    }
   ],
   "source": [
    "# Run the model ALS\n",
    "model = implicit.als.AlternatingLeastSquares(factors=10, calculate_training_loss=True,  iterations=5)\n",
    "\n",
    "# Train the model on a sparse matrix of item/user/confidence weights\n",
    "model.fit(M)"
   ]
  },
  {
   "cell_type": "code",
   "execution_count": 153,
   "metadata": {},
   "outputs": [],
   "source": [
    "def predict_ALS(testset, model):\n",
    "    \"\"\"\n",
    "    predict for a list of observations the score for adding/removing a link\n",
    "    \"\"\"\n",
    "\n",
    "    # initialize the empty list\n",
    "    all_predictions = []\n",
    "\n",
    "    # scroll the obs\n",
    "    for n1, n2, w in testset:\n",
    "        \n",
    "        # take here the low-dimensional vectors returned by the matrix factorization\n",
    "        \n",
    "        array_n1 = model.user_factors[n1, :]\n",
    "        array_n2 = model.item_factors[n2, :]\n",
    "\n",
    "        # multiplying these vectors we generate an approximation for the edge score\n",
    "        one_p = np.dot(array_n1, array_n2)\n",
    "\n",
    "        all_predictions.append(one_p)\n",
    "        \n",
    "    return all_predictions"
   ]
  },
  {
   "cell_type": "code",
   "execution_count": 154,
   "metadata": {},
   "outputs": [],
   "source": [
    "# generate the predictions\n",
    "all_predictions = predict_ALS(test_df[[\"u\", \"v\", \"ground_truth\"]].values, model)\n",
    "\n",
    "# add predictions to df\n",
    "test_df[\"ALS\"] = all_predictions"
   ]
  },
  {
   "cell_type": "code",
   "execution_count": 159,
   "metadata": {},
   "outputs": [
    {
     "data": {
      "text/html": [
       "<div>\n",
       "<style scoped>\n",
       "    .dataframe tbody tr th:only-of-type {\n",
       "        vertical-align: middle;\n",
       "    }\n",
       "\n",
       "    .dataframe tbody tr th {\n",
       "        vertical-align: top;\n",
       "    }\n",
       "\n",
       "    .dataframe thead th {\n",
       "        text-align: right;\n",
       "    }\n",
       "</style>\n",
       "<table border=\"1\" class=\"dataframe\">\n",
       "  <thead>\n",
       "    <tr style=\"text-align: right;\">\n",
       "      <th></th>\n",
       "      <th>u</th>\n",
       "      <th>v</th>\n",
       "      <th>ground_truth</th>\n",
       "      <th>ADA</th>\n",
       "      <th>ALS</th>\n",
       "    </tr>\n",
       "  </thead>\n",
       "  <tbody>\n",
       "    <tr>\n",
       "      <th>0</th>\n",
       "      <td>371</td>\n",
       "      <td>9935</td>\n",
       "      <td>0</td>\n",
       "      <td>0.095358</td>\n",
       "      <td>-0.000495</td>\n",
       "    </tr>\n",
       "    <tr>\n",
       "      <th>1</th>\n",
       "      <td>2260</td>\n",
       "      <td>6001</td>\n",
       "      <td>0</td>\n",
       "      <td>0.095358</td>\n",
       "      <td>-0.000151</td>\n",
       "    </tr>\n",
       "    <tr>\n",
       "      <th>2</th>\n",
       "      <td>4321</td>\n",
       "      <td>14803</td>\n",
       "      <td>0</td>\n",
       "      <td>0.095358</td>\n",
       "      <td>0.010087</td>\n",
       "    </tr>\n",
       "    <tr>\n",
       "      <th>3</th>\n",
       "      <td>2901</td>\n",
       "      <td>3619</td>\n",
       "      <td>0</td>\n",
       "      <td>0.095358</td>\n",
       "      <td>-0.000478</td>\n",
       "    </tr>\n",
       "    <tr>\n",
       "      <th>4</th>\n",
       "      <td>480</td>\n",
       "      <td>16009</td>\n",
       "      <td>0</td>\n",
       "      <td>0.095358</td>\n",
       "      <td>-0.000072</td>\n",
       "    </tr>\n",
       "    <tr>\n",
       "      <th>...</th>\n",
       "      <td>...</td>\n",
       "      <td>...</td>\n",
       "      <td>...</td>\n",
       "      <td>...</td>\n",
       "      <td>...</td>\n",
       "    </tr>\n",
       "    <tr>\n",
       "      <th>32383</th>\n",
       "      <td>2142</td>\n",
       "      <td>13032</td>\n",
       "      <td>0</td>\n",
       "      <td>0.113583</td>\n",
       "      <td>0.000629</td>\n",
       "    </tr>\n",
       "    <tr>\n",
       "      <th>32384</th>\n",
       "      <td>112</td>\n",
       "      <td>5267</td>\n",
       "      <td>0</td>\n",
       "      <td>0.127667</td>\n",
       "      <td>0.000258</td>\n",
       "    </tr>\n",
       "    <tr>\n",
       "      <th>32385</th>\n",
       "      <td>553</td>\n",
       "      <td>14304</td>\n",
       "      <td>0</td>\n",
       "      <td>0.095358</td>\n",
       "      <td>0.000457</td>\n",
       "    </tr>\n",
       "    <tr>\n",
       "      <th>32386</th>\n",
       "      <td>2132</td>\n",
       "      <td>7591</td>\n",
       "      <td>0</td>\n",
       "      <td>0.280150</td>\n",
       "      <td>0.086707</td>\n",
       "    </tr>\n",
       "    <tr>\n",
       "      <th>32387</th>\n",
       "      <td>5431</td>\n",
       "      <td>8330</td>\n",
       "      <td>0</td>\n",
       "      <td>0.095358</td>\n",
       "      <td>-0.000077</td>\n",
       "    </tr>\n",
       "  </tbody>\n",
       "</table>\n",
       "<p>32388 rows × 5 columns</p>\n",
       "</div>"
      ],
      "text/plain": [
       "          u      v  ground_truth       ADA       ALS\n",
       "0       371   9935             0  0.095358 -0.000495\n",
       "1      2260   6001             0  0.095358 -0.000151\n",
       "2      4321  14803             0  0.095358  0.010087\n",
       "3      2901   3619             0  0.095358 -0.000478\n",
       "4       480  16009             0  0.095358 -0.000072\n",
       "...     ...    ...           ...       ...       ...\n",
       "32383  2142  13032             0  0.113583  0.000629\n",
       "32384   112   5267             0  0.127667  0.000258\n",
       "32385   553  14304             0  0.095358  0.000457\n",
       "32386  2132   7591             0  0.280150  0.086707\n",
       "32387  5431   8330             0  0.095358 -0.000077\n",
       "\n",
       "[32388 rows x 5 columns]"
      ]
     },
     "execution_count": 159,
     "metadata": {},
     "output_type": "execute_result"
    }
   ],
   "source": [
    "test_df"
   ]
  },
  {
   "cell_type": "markdown",
   "metadata": {},
   "source": [
    "## PageRank"
   ]
  },
  {
   "cell_type": "markdown",
   "metadata": {},
   "source": [
    "delete vertices from g --> all vertices except the ones in test_idxs"
   ]
  },
  {
   "cell_type": "code",
   "execution_count": 173,
   "metadata": {},
   "outputs": [],
   "source": [
    "new_graph = deepcopy(g)\n",
    "new_graph.delete_vertices([i for i in range(len(ids_mapping)) if i not in test_idxs])"
   ]
  },
  {
   "cell_type": "code",
   "execution_count": 201,
   "metadata": {},
   "outputs": [],
   "source": [
    "def ppage_rank(graph, test_df):\n",
    "    # here we need also the argument vid, which corresponds to a node-id\n",
    "    probab = []\n",
    "    for u, v in test_df[[\"u\", \"v\"]].values: \n",
    "        probab.append(graph.personalized_pagerank(reset_vertices=u)[v])\n",
    "    return probab"
   ]
  },
  {
   "cell_type": "code",
   "execution_count": 202,
   "metadata": {},
   "outputs": [],
   "source": [
    "test_df[\"PPageRank\"] = ppage_rank(g, test_df)"
   ]
  },
  {
   "cell_type": "code",
   "execution_count": 203,
   "metadata": {},
   "outputs": [
    {
     "data": {
      "text/html": [
       "<div>\n",
       "<style scoped>\n",
       "    .dataframe tbody tr th:only-of-type {\n",
       "        vertical-align: middle;\n",
       "    }\n",
       "\n",
       "    .dataframe tbody tr th {\n",
       "        vertical-align: top;\n",
       "    }\n",
       "\n",
       "    .dataframe thead th {\n",
       "        text-align: right;\n",
       "    }\n",
       "</style>\n",
       "<table border=\"1\" class=\"dataframe\">\n",
       "  <thead>\n",
       "    <tr style=\"text-align: right;\">\n",
       "      <th></th>\n",
       "      <th>u</th>\n",
       "      <th>v</th>\n",
       "      <th>ground_truth</th>\n",
       "      <th>ADA</th>\n",
       "      <th>ALS</th>\n",
       "      <th>PPageRank</th>\n",
       "    </tr>\n",
       "  </thead>\n",
       "  <tbody>\n",
       "    <tr>\n",
       "      <th>0</th>\n",
       "      <td>371</td>\n",
       "      <td>9935</td>\n",
       "      <td>0</td>\n",
       "      <td>0.095358</td>\n",
       "      <td>-0.000495</td>\n",
       "      <td>0.000107</td>\n",
       "    </tr>\n",
       "    <tr>\n",
       "      <th>1</th>\n",
       "      <td>2260</td>\n",
       "      <td>6001</td>\n",
       "      <td>0</td>\n",
       "      <td>0.095358</td>\n",
       "      <td>-0.000151</td>\n",
       "      <td>0.000182</td>\n",
       "    </tr>\n",
       "    <tr>\n",
       "      <th>2</th>\n",
       "      <td>4321</td>\n",
       "      <td>14803</td>\n",
       "      <td>0</td>\n",
       "      <td>0.095358</td>\n",
       "      <td>0.010087</td>\n",
       "      <td>0.000025</td>\n",
       "    </tr>\n",
       "    <tr>\n",
       "      <th>3</th>\n",
       "      <td>2901</td>\n",
       "      <td>3619</td>\n",
       "      <td>0</td>\n",
       "      <td>0.095358</td>\n",
       "      <td>-0.000478</td>\n",
       "      <td>0.000065</td>\n",
       "    </tr>\n",
       "    <tr>\n",
       "      <th>4</th>\n",
       "      <td>480</td>\n",
       "      <td>16009</td>\n",
       "      <td>0</td>\n",
       "      <td>0.095358</td>\n",
       "      <td>-0.000072</td>\n",
       "      <td>0.000039</td>\n",
       "    </tr>\n",
       "    <tr>\n",
       "      <th>...</th>\n",
       "      <td>...</td>\n",
       "      <td>...</td>\n",
       "      <td>...</td>\n",
       "      <td>...</td>\n",
       "      <td>...</td>\n",
       "      <td>...</td>\n",
       "    </tr>\n",
       "    <tr>\n",
       "      <th>32383</th>\n",
       "      <td>2142</td>\n",
       "      <td>13032</td>\n",
       "      <td>0</td>\n",
       "      <td>0.113583</td>\n",
       "      <td>0.000629</td>\n",
       "      <td>0.000112</td>\n",
       "    </tr>\n",
       "    <tr>\n",
       "      <th>32384</th>\n",
       "      <td>112</td>\n",
       "      <td>5267</td>\n",
       "      <td>0</td>\n",
       "      <td>0.127667</td>\n",
       "      <td>0.000258</td>\n",
       "      <td>0.000325</td>\n",
       "    </tr>\n",
       "    <tr>\n",
       "      <th>32385</th>\n",
       "      <td>553</td>\n",
       "      <td>14304</td>\n",
       "      <td>0</td>\n",
       "      <td>0.095358</td>\n",
       "      <td>0.000457</td>\n",
       "      <td>0.000185</td>\n",
       "    </tr>\n",
       "    <tr>\n",
       "      <th>32386</th>\n",
       "      <td>2132</td>\n",
       "      <td>7591</td>\n",
       "      <td>0</td>\n",
       "      <td>0.280150</td>\n",
       "      <td>0.086707</td>\n",
       "      <td>0.000383</td>\n",
       "    </tr>\n",
       "    <tr>\n",
       "      <th>32387</th>\n",
       "      <td>5431</td>\n",
       "      <td>8330</td>\n",
       "      <td>0</td>\n",
       "      <td>0.095358</td>\n",
       "      <td>-0.000077</td>\n",
       "      <td>0.000097</td>\n",
       "    </tr>\n",
       "  </tbody>\n",
       "</table>\n",
       "<p>32388 rows × 6 columns</p>\n",
       "</div>"
      ],
      "text/plain": [
       "          u      v  ground_truth       ADA       ALS  PPageRank\n",
       "0       371   9935             0  0.095358 -0.000495   0.000107\n",
       "1      2260   6001             0  0.095358 -0.000151   0.000182\n",
       "2      4321  14803             0  0.095358  0.010087   0.000025\n",
       "3      2901   3619             0  0.095358 -0.000478   0.000065\n",
       "4       480  16009             0  0.095358 -0.000072   0.000039\n",
       "...     ...    ...           ...       ...       ...        ...\n",
       "32383  2142  13032             0  0.113583  0.000629   0.000112\n",
       "32384   112   5267             0  0.127667  0.000258   0.000325\n",
       "32385   553  14304             0  0.095358  0.000457   0.000185\n",
       "32386  2132   7591             0  0.280150  0.086707   0.000383\n",
       "32387  5431   8330             0  0.095358 -0.000077   0.000097\n",
       "\n",
       "[32388 rows x 6 columns]"
      ]
     },
     "execution_count": 203,
     "metadata": {},
     "output_type": "execute_result"
    }
   ],
   "source": [
    "test_df"
   ]
  },
  {
   "cell_type": "code",
   "execution_count": 253,
   "metadata": {},
   "outputs": [],
   "source": [
    "def get_topk (scores, column, topk = 10):\n",
    "    scores = scores.sort_values(by=column, ascending = False)\n",
    "    return scores[:topk]"
   ]
  },
  {
   "cell_type": "markdown",
   "metadata": {},
   "source": [
    "## Our score"
   ]
  },
  {
   "cell_type": "code",
   "execution_count": 249,
   "metadata": {},
   "outputs": [],
   "source": [
    "def compute_Jaccard(u,v):\n",
    "    if len(set(u).union(set(v))) == 0:\n",
    "        return 0.0\n",
    "    return len(set(u).intersection(set(v)))/len(set(u).union(set(v)))"
   ]
  },
  {
   "cell_type": "code",
   "execution_count": 286,
   "metadata": {},
   "outputs": [],
   "source": [
    "personalized_score = []\n",
    "lamb = 1/3\n",
    "max_ADA = test_df[\"ADA\"].max()\n",
    "# Predictions\n",
    "for i, row in test_df.iterrows():\n",
    "    pred = compute_Jaccard(hashtags[int(row[\"u\"])], hashtags[int(row[\"v\"])])\n",
    "    personalized_score.append(row[\"ADA\"] + lamb * max_ADA * pred)\n",
    "test_df[\"Personalized\"] = personalized_score"
   ]
  },
  {
   "cell_type": "code",
   "execution_count": 254,
   "metadata": {},
   "outputs": [
    {
     "data": {
      "text/html": [
       "<div>\n",
       "<style scoped>\n",
       "    .dataframe tbody tr th:only-of-type {\n",
       "        vertical-align: middle;\n",
       "    }\n",
       "\n",
       "    .dataframe tbody tr th {\n",
       "        vertical-align: top;\n",
       "    }\n",
       "\n",
       "    .dataframe thead th {\n",
       "        text-align: right;\n",
       "    }\n",
       "</style>\n",
       "<table border=\"1\" class=\"dataframe\">\n",
       "  <thead>\n",
       "    <tr style=\"text-align: right;\">\n",
       "      <th></th>\n",
       "      <th>u</th>\n",
       "      <th>v</th>\n",
       "      <th>ground_truth</th>\n",
       "      <th>ADA</th>\n",
       "      <th>ALS</th>\n",
       "      <th>PPageRank</th>\n",
       "      <th>personalized</th>\n",
       "    </tr>\n",
       "  </thead>\n",
       "  <tbody>\n",
       "    <tr>\n",
       "      <th>9882</th>\n",
       "      <td>6912</td>\n",
       "      <td>14506</td>\n",
       "      <td>0</td>\n",
       "      <td>5.788057</td>\n",
       "      <td>1.262843</td>\n",
       "      <td>0.019939</td>\n",
       "      <td>6.109616</td>\n",
       "    </tr>\n",
       "    <tr>\n",
       "      <th>5199</th>\n",
       "      <td>74</td>\n",
       "      <td>7317</td>\n",
       "      <td>0</td>\n",
       "      <td>5.187976</td>\n",
       "      <td>0.974226</td>\n",
       "      <td>0.029246</td>\n",
       "      <td>7.117328</td>\n",
       "    </tr>\n",
       "    <tr>\n",
       "      <th>4653</th>\n",
       "      <td>3044</td>\n",
       "      <td>3091</td>\n",
       "      <td>0</td>\n",
       "      <td>4.883447</td>\n",
       "      <td>0.686398</td>\n",
       "      <td>0.019970</td>\n",
       "      <td>6.812800</td>\n",
       "    </tr>\n",
       "    <tr>\n",
       "      <th>5961</th>\n",
       "      <td>46</td>\n",
       "      <td>1275</td>\n",
       "      <td>0</td>\n",
       "      <td>4.580674</td>\n",
       "      <td>0.240261</td>\n",
       "      <td>0.013795</td>\n",
       "      <td>5.866909</td>\n",
       "    </tr>\n",
       "    <tr>\n",
       "      <th>185</th>\n",
       "      <td>3066</td>\n",
       "      <td>14506</td>\n",
       "      <td>0</td>\n",
       "      <td>4.263924</td>\n",
       "      <td>-0.168170</td>\n",
       "      <td>0.012981</td>\n",
       "      <td>4.263924</td>\n",
       "    </tr>\n",
       "    <tr>\n",
       "      <th>18714</th>\n",
       "      <td>46</td>\n",
       "      <td>4800</td>\n",
       "      <td>0</td>\n",
       "      <td>4.154005</td>\n",
       "      <td>0.308623</td>\n",
       "      <td>0.022614</td>\n",
       "      <td>5.118681</td>\n",
       "    </tr>\n",
       "    <tr>\n",
       "      <th>23810</th>\n",
       "      <td>4321</td>\n",
       "      <td>14506</td>\n",
       "      <td>0</td>\n",
       "      <td>4.047398</td>\n",
       "      <td>-0.051517</td>\n",
       "      <td>0.015299</td>\n",
       "      <td>4.047398</td>\n",
       "    </tr>\n",
       "    <tr>\n",
       "      <th>15469</th>\n",
       "      <td>3091</td>\n",
       "      <td>7317</td>\n",
       "      <td>1</td>\n",
       "      <td>3.835365</td>\n",
       "      <td>0.812402</td>\n",
       "      <td>0.029696</td>\n",
       "      <td>5.764718</td>\n",
       "    </tr>\n",
       "    <tr>\n",
       "      <th>13172</th>\n",
       "      <td>3044</td>\n",
       "      <td>7317</td>\n",
       "      <td>0</td>\n",
       "      <td>3.789573</td>\n",
       "      <td>0.857237</td>\n",
       "      <td>0.029545</td>\n",
       "      <td>5.718925</td>\n",
       "    </tr>\n",
       "    <tr>\n",
       "      <th>14879</th>\n",
       "      <td>74</td>\n",
       "      <td>3044</td>\n",
       "      <td>0</td>\n",
       "      <td>3.499988</td>\n",
       "      <td>0.823073</td>\n",
       "      <td>0.020913</td>\n",
       "      <td>5.429340</td>\n",
       "    </tr>\n",
       "  </tbody>\n",
       "</table>\n",
       "</div>"
      ],
      "text/plain": [
       "          u      v  ground_truth       ADA       ALS  PPageRank  personalized\n",
       "9882   6912  14506             0  5.788057  1.262843   0.019939      6.109616\n",
       "5199     74   7317             0  5.187976  0.974226   0.029246      7.117328\n",
       "4653   3044   3091             0  4.883447  0.686398   0.019970      6.812800\n",
       "5961     46   1275             0  4.580674  0.240261   0.013795      5.866909\n",
       "185    3066  14506             0  4.263924 -0.168170   0.012981      4.263924\n",
       "18714    46   4800             0  4.154005  0.308623   0.022614      5.118681\n",
       "23810  4321  14506             0  4.047398 -0.051517   0.015299      4.047398\n",
       "15469  3091   7317             1  3.835365  0.812402   0.029696      5.764718\n",
       "13172  3044   7317             0  3.789573  0.857237   0.029545      5.718925\n",
       "14879    74   3044             0  3.499988  0.823073   0.020913      5.429340"
      ]
     },
     "execution_count": 254,
     "metadata": {},
     "output_type": "execute_result"
    }
   ],
   "source": [
    "get_topk(test_df, \"ADA\")"
   ]
  },
  {
   "cell_type": "code",
   "execution_count": 289,
   "metadata": {},
   "outputs": [
    {
     "data": {
      "text/html": [
       "<div>\n",
       "<style scoped>\n",
       "    .dataframe tbody tr th:only-of-type {\n",
       "        vertical-align: middle;\n",
       "    }\n",
       "\n",
       "    .dataframe tbody tr th {\n",
       "        vertical-align: top;\n",
       "    }\n",
       "\n",
       "    .dataframe thead th {\n",
       "        text-align: right;\n",
       "    }\n",
       "</style>\n",
       "<table border=\"1\" class=\"dataframe\">\n",
       "  <thead>\n",
       "    <tr style=\"text-align: right;\">\n",
       "      <th></th>\n",
       "      <th>u</th>\n",
       "      <th>v</th>\n",
       "      <th>ground_truth</th>\n",
       "      <th>ADA</th>\n",
       "      <th>ALS</th>\n",
       "      <th>PPageRank</th>\n",
       "      <th>Personalized</th>\n",
       "    </tr>\n",
       "  </thead>\n",
       "  <tbody>\n",
       "    <tr>\n",
       "      <th>18948</th>\n",
       "      <td>6569</td>\n",
       "      <td>6912</td>\n",
       "      <td>1</td>\n",
       "      <td>0.000000</td>\n",
       "      <td>0.009587</td>\n",
       "      <td>0.205396</td>\n",
       "      <td>0.000000</td>\n",
       "    </tr>\n",
       "    <tr>\n",
       "      <th>9483</th>\n",
       "      <td>1612</td>\n",
       "      <td>18031</td>\n",
       "      <td>1</td>\n",
       "      <td>0.000000</td>\n",
       "      <td>0.000118</td>\n",
       "      <td>0.231461</td>\n",
       "      <td>0.000000</td>\n",
       "    </tr>\n",
       "    <tr>\n",
       "      <th>19184</th>\n",
       "      <td>2177</td>\n",
       "      <td>5111</td>\n",
       "      <td>1</td>\n",
       "      <td>0.000000</td>\n",
       "      <td>0.031048</td>\n",
       "      <td>0.001848</td>\n",
       "      <td>0.000000</td>\n",
       "    </tr>\n",
       "    <tr>\n",
       "      <th>11459</th>\n",
       "      <td>2177</td>\n",
       "      <td>6641</td>\n",
       "      <td>1</td>\n",
       "      <td>0.291919</td>\n",
       "      <td>0.022969</td>\n",
       "      <td>0.001839</td>\n",
       "      <td>0.291919</td>\n",
       "    </tr>\n",
       "    <tr>\n",
       "      <th>25376</th>\n",
       "      <td>9383</td>\n",
       "      <td>16177</td>\n",
       "      <td>1</td>\n",
       "      <td>0.000000</td>\n",
       "      <td>0.000481</td>\n",
       "      <td>0.018723</td>\n",
       "      <td>0.000000</td>\n",
       "    </tr>\n",
       "    <tr>\n",
       "      <th>14387</th>\n",
       "      <td>6912</td>\n",
       "      <td>8712</td>\n",
       "      <td>1</td>\n",
       "      <td>0.000000</td>\n",
       "      <td>0.078688</td>\n",
       "      <td>0.001444</td>\n",
       "      <td>0.771741</td>\n",
       "    </tr>\n",
       "    <tr>\n",
       "      <th>12616</th>\n",
       "      <td>14016</td>\n",
       "      <td>14506</td>\n",
       "      <td>1</td>\n",
       "      <td>0.000000</td>\n",
       "      <td>0.979228</td>\n",
       "      <td>0.292824</td>\n",
       "      <td>0.964676</td>\n",
       "    </tr>\n",
       "    <tr>\n",
       "      <th>17630</th>\n",
       "      <td>897</td>\n",
       "      <td>4803</td>\n",
       "      <td>1</td>\n",
       "      <td>0.142628</td>\n",
       "      <td>0.029225</td>\n",
       "      <td>0.002441</td>\n",
       "      <td>1.107305</td>\n",
       "    </tr>\n",
       "    <tr>\n",
       "      <th>14033</th>\n",
       "      <td>2177</td>\n",
       "      <td>11959</td>\n",
       "      <td>1</td>\n",
       "      <td>0.000000</td>\n",
       "      <td>0.031353</td>\n",
       "      <td>0.001597</td>\n",
       "      <td>0.000000</td>\n",
       "    </tr>\n",
       "    <tr>\n",
       "      <th>7699</th>\n",
       "      <td>3886</td>\n",
       "      <td>7823</td>\n",
       "      <td>1</td>\n",
       "      <td>0.000000</td>\n",
       "      <td>0.000174</td>\n",
       "      <td>0.008582</td>\n",
       "      <td>0.000000</td>\n",
       "    </tr>\n",
       "  </tbody>\n",
       "</table>\n",
       "</div>"
      ],
      "text/plain": [
       "           u      v  ground_truth       ADA       ALS  PPageRank  Personalized\n",
       "18948   6569   6912             1  0.000000  0.009587   0.205396      0.000000\n",
       "9483    1612  18031             1  0.000000  0.000118   0.231461      0.000000\n",
       "19184   2177   5111             1  0.000000  0.031048   0.001848      0.000000\n",
       "11459   2177   6641             1  0.291919  0.022969   0.001839      0.291919\n",
       "25376   9383  16177             1  0.000000  0.000481   0.018723      0.000000\n",
       "14387   6912   8712             1  0.000000  0.078688   0.001444      0.771741\n",
       "12616  14016  14506             1  0.000000  0.979228   0.292824      0.964676\n",
       "17630    897   4803             1  0.142628  0.029225   0.002441      1.107305\n",
       "14033   2177  11959             1  0.000000  0.031353   0.001597      0.000000\n",
       "7699    3886   7823             1  0.000000  0.000174   0.008582      0.000000"
      ]
     },
     "execution_count": 289,
     "metadata": {},
     "output_type": "execute_result"
    }
   ],
   "source": [
    "get_topk(test_df, \"ground_truth\")"
   ]
  },
  {
   "cell_type": "markdown",
   "metadata": {},
   "source": [
    "## Compare scores - nDCG"
   ]
  },
  {
   "cell_type": "markdown",
   "metadata": {},
   "source": [
    "Transform continuous scores to categorical ones (from 0 to 3) being 3 the best score. "
   ]
  },
  {
   "cell_type": "code",
   "execution_count": 304,
   "metadata": {},
   "outputs": [],
   "source": [
    "def compute_intervals(df, column, n):\n",
    "    intervals = []\n",
    "    minimum = df[column].min()\n",
    "    maximum = df[column].max()\n",
    "    interval_length = (maximum - minimum) / (n + 1)\n",
    "    \n",
    "    for i in range(n + 1):\n",
    "        intervals.append((minimum + interval_length * i, minimum + interval_length * (i+1)))\n",
    "    return intervals\n",
    "\n",
    "def substitution (x, intervals):\n",
    "    for i, pos in enumerate(intervals): \n",
    "        if x >= pos[0] and x <= pos[1]:\n",
    "            return i"
   ]
  },
  {
   "cell_type": "code",
   "execution_count": 305,
   "metadata": {},
   "outputs": [],
   "source": [
    "ranked_scores = test_df.copy()"
   ]
  },
  {
   "cell_type": "code",
   "execution_count": 306,
   "metadata": {},
   "outputs": [],
   "source": [
    "ranked_scores[\"ground_truth\"] = ranked_scores[\"ground_truth\"].apply(lambda x: 3 if x == 1 else 0)\n",
    "ranked_scores[\"ADA\"] = ranked_scores[\"ADA\"].apply(lambda x: substitution(x, \n",
    "                                                  compute_intervals(ranked_scores,\"ADA\",3)))\n",
    "ranked_scores[\"ALS\"] = ranked_scores[\"ALS\"].apply(lambda x: substitution(x, \n",
    "                                                  compute_intervals(ranked_scores,\"ALS\",3)))\n",
    "ranked_scores[\"PPageRank\"] = ranked_scores[\"PPageRank\"].apply(lambda x: substitution(x, \n",
    "                                                  compute_intervals(ranked_scores,\"PPageRank\",3)))\n",
    "ranked_scores[\"Personalized\"] = ranked_scores[\"Personalized\"].apply(lambda x: substitution(x, \n",
    "                                                  compute_intervals(ranked_scores,\"Personalized\",3)))"
   ]
  },
  {
   "cell_type": "markdown",
   "metadata": {},
   "source": [
    "Compute nDCG between scores"
   ]
  },
  {
   "cell_type": "code",
   "execution_count": 319,
   "metadata": {},
   "outputs": [],
   "source": [
    "def dcg_at_k(y_true, y_score,  k=10):\n",
    "    order = np.argsort(y_score)[::-1] # get the list of indexes of the predicted score sorted in descending order.\n",
    "    y_true = np.take(list(y_true), order[:k]) # sort the actual relevance label of the documents based on predicted score(hint: np.take) and take first k.\n",
    "    gain = 2**(y_true) - 1 # Compute gain (use formula 7 above)\n",
    "    discounts = np.log2(np.arange(len(y_true)) + 2) # Compute denominator\n",
    "    return np.sum(gain / discounts) #return dcg@k\n",
    "\n",
    "\n",
    "def ndcg_at_k(y_true, y_score, k=10):    \n",
    "    dcg_max = dcg_at_k(y_true, y_true, k) # Ideal dcg\n",
    "    if not dcg_max:\n",
    "        return 0\n",
    "    return np.round(dcg_at_k(y_true, y_score, k) / dcg_max,4)  # return ndcg@k"
   ]
  },
  {
   "cell_type": "code",
   "execution_count": 350,
   "metadata": {},
   "outputs": [],
   "source": [
    "def compute_ndcg(df, column, topk = 20): \n",
    "    sorted_ = df.sort_values(by = column, ascending = False)\n",
    "    return ndcg_at_k(sorted_[\"ground_truth\"], sorted_[column], topk)"
   ]
  },
  {
   "cell_type": "code",
   "execution_count": 356,
   "metadata": {},
   "outputs": [
    {
     "name": "stdout",
     "output_type": "stream",
     "text": [
      "nDCG score ranking with ADA: 0.0373\n",
      "nDCG score ranking with ALS: 0.1476\n",
      "nDCG score ranking with PPageRank: 0.2282\n",
      "nDCG score ranking with Personalized: 0.1563\n"
     ]
    }
   ],
   "source": [
    "print(\"nDCG score ranking with ADA: {}\".format(compute_ndcg(ranked_scores, \"ADA\")))\n",
    "print(\"nDCG score ranking with ALS: {}\".format(compute_ndcg(ranked_scores, \"ALS\")))\n",
    "print(\"nDCG score ranking with PPageRank: {}\".format(compute_ndcg(ranked_scores, \"PPageRank\")))\n",
    "print(\"nDCG score ranking with Personalized: {}\".format(compute_ndcg(ranked_scores, \"Personalized\")))"
   ]
  }
 ],
 "metadata": {
  "kernelspec": {
   "display_name": "Python 3",
   "language": "python",
   "name": "python3"
  },
  "language_info": {
   "codemirror_mode": {
    "name": "ipython",
    "version": 3
   },
   "file_extension": ".py",
   "mimetype": "text/x-python",
   "name": "python",
   "nbconvert_exporter": "python",
   "pygments_lexer": "ipython3",
   "version": "3.7.4"
  }
 },
 "nbformat": 4,
 "nbformat_minor": 2
}
