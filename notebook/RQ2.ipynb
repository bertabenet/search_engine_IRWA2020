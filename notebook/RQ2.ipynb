{
 "cells": [
  {
   "cell_type": "code",
   "execution_count": 1,
   "metadata": {},
   "outputs": [
    {
     "name": "stderr",
     "output_type": "stream",
     "text": [
      "\n",
      "Bad key \"text.kerning_factor\" on line 4 in\n",
      "/usr/local/anaconda3/lib/python3.7/site-packages/matplotlib/mpl-data/stylelib/_classic_test_patch.mplstyle.\n",
      "You probably need to get an updated matplotlibrc file from\n",
      "http://github.com/matplotlib/matplotlib/blob/master/matplotlibrc.template\n",
      "or from the matplotlib source distribution\n"
     ]
    }
   ],
   "source": [
    "import sys  \n",
    "sys.path.insert(0, '../search-engine')\n",
    "from utils import *\n",
    "import pandas as pd\n",
    "from scipy.stats import spearmanr"
   ]
  },
  {
   "cell_type": "markdown",
   "metadata": {},
   "source": [
    "# NB2: Output Diversification"
   ]
  },
  {
   "cell_type": "markdown",
   "metadata": {},
   "source": [
    "## Import data\n",
    "Import data from search engine and clustering from NB1: Output Analysis"
   ]
  },
  {
   "cell_type": "code",
   "execution_count": 2,
   "metadata": {},
   "outputs": [],
   "source": [
    "# Import data and work with a sample of size 10000\n",
    "data = get_tweets(None, None, mode = \"read\", data_directory = '../data/')\n",
    "data = data[:10000]\n",
    "\n",
    "# Create tweetsDict, inverted index and tf, df, idf for each term of the sample data\n",
    "tweetsDict = create_tweets_dict(data)\n",
    "index, tf, df, idf = create_index_tfidf(data, len(data))"
   ]
  },
  {
   "cell_type": "code",
   "execution_count": 3,
   "metadata": {},
   "outputs": [
    {
     "data": {
      "text/html": [
       "<div>\n",
       "<style scoped>\n",
       "    .dataframe tbody tr th:only-of-type {\n",
       "        vertical-align: middle;\n",
       "    }\n",
       "\n",
       "    .dataframe tbody tr th {\n",
       "        vertical-align: top;\n",
       "    }\n",
       "\n",
       "    .dataframe thead th {\n",
       "        text-align: right;\n",
       "    }\n",
       "</style>\n",
       "<table border=\"1\" class=\"dataframe\">\n",
       "  <thead>\n",
       "    <tr style=\"text-align: right;\">\n",
       "      <th></th>\n",
       "      <th>Text</th>\n",
       "      <th>Cluster</th>\n",
       "    </tr>\n",
       "  </thead>\n",
       "  <tbody>\n",
       "    <tr>\n",
       "      <th>1335568906937896960</th>\n",
       "      <td>RT @9NEWSNANCY: 🤬@SpeakerPelosi has a LOT of d...</td>\n",
       "      <td>2</td>\n",
       "    </tr>\n",
       "    <tr>\n",
       "      <th>1335568907059466241</th>\n",
       "      <td>The Canadian strikes again https://t.co/Wj2i8L...</td>\n",
       "      <td>2</td>\n",
       "    </tr>\n",
       "    <tr>\n",
       "      <th>1335568907059535874</th>\n",
       "      <td>Call your legislators! #FightForTrump https://...</td>\n",
       "      <td>0</td>\n",
       "    </tr>\n",
       "    <tr>\n",
       "      <th>1335568907139231744</th>\n",
       "      <td>RT @BernardKerik: These are the four cowardice...</td>\n",
       "      <td>2</td>\n",
       "    </tr>\n",
       "    <tr>\n",
       "      <th>1335568907311132674</th>\n",
       "      <td>RT @realDonaldTrump: The answer to the Democra...</td>\n",
       "      <td>0</td>\n",
       "    </tr>\n",
       "  </tbody>\n",
       "</table>\n",
       "</div>"
      ],
      "text/plain": [
       "                                                                  Text  \\\n",
       "1335568906937896960  RT @9NEWSNANCY: 🤬@SpeakerPelosi has a LOT of d...   \n",
       "1335568907059466241  The Canadian strikes again https://t.co/Wj2i8L...   \n",
       "1335568907059535874  Call your legislators! #FightForTrump https://...   \n",
       "1335568907139231744  RT @BernardKerik: These are the four cowardice...   \n",
       "1335568907311132674  RT @realDonaldTrump: The answer to the Democra...   \n",
       "\n",
       "                     Cluster  \n",
       "1335568906937896960        2  \n",
       "1335568907059466241        2  \n",
       "1335568907059535874        0  \n",
       "1335568907139231744        2  \n",
       "1335568907311132674        0  "
      ]
     },
     "execution_count": 3,
     "metadata": {},
     "output_type": "execute_result"
    }
   ],
   "source": [
    "# Import clustering resulting from NB1 (QR1)\n",
    "cluster_df = pd.read_csv(\"../other-outputs/clustering_output_10000.csv\", index_col = \"Unnamed: 0\")\n",
    "cluster_df.head()"
   ]
  },
  {
   "cell_type": "markdown",
   "metadata": {},
   "source": [
    "<font color = \"DarkGreen\">\n",
    "    \n",
    "## All following steps are related to a specific **query** and the **top-k**.  Specify them in the following cell:\n",
    "</font>"
   ]
  },
  {
   "cell_type": "code",
   "execution_count": 4,
   "metadata": {},
   "outputs": [],
   "source": [
    "query = \"Vote\"\n",
    "topk = 20"
   ]
  },
  {
   "cell_type": "markdown",
   "metadata": {},
   "source": [
    "## 1. Compute scores"
   ]
  },
  {
   "cell_type": "markdown",
   "metadata": {},
   "source": [
    "Compute scores for specified query (tf-idf, personalized and w2v)"
   ]
  },
  {
   "cell_type": "code",
   "execution_count": 5,
   "metadata": {},
   "outputs": [
    {
     "data": {
      "text/html": [
       "<div>\n",
       "<style scoped>\n",
       "    .dataframe tbody tr th:only-of-type {\n",
       "        vertical-align: middle;\n",
       "    }\n",
       "\n",
       "    .dataframe tbody tr th {\n",
       "        vertical-align: top;\n",
       "    }\n",
       "\n",
       "    .dataframe thead th {\n",
       "        text-align: right;\n",
       "    }\n",
       "</style>\n",
       "<table border=\"1\" class=\"dataframe\">\n",
       "  <thead>\n",
       "    <tr style=\"text-align: right;\">\n",
       "      <th></th>\n",
       "      <th>tf-idf</th>\n",
       "      <th>partial</th>\n",
       "      <th>personalized</th>\n",
       "      <th>w2v</th>\n",
       "    </tr>\n",
       "  </thead>\n",
       "  <tbody>\n",
       "    <tr>\n",
       "      <th>1335568907516559360</th>\n",
       "      <td>0.538773</td>\n",
       "      <td>0.001226</td>\n",
       "      <td>0.539707</td>\n",
       "      <td>103.341381</td>\n",
       "    </tr>\n",
       "    <tr>\n",
       "      <th>1335568908254769153</th>\n",
       "      <td>0.659922</td>\n",
       "      <td>0.000182</td>\n",
       "      <td>0.660061</td>\n",
       "      <td>55.017729</td>\n",
       "    </tr>\n",
       "    <tr>\n",
       "      <th>1335568909072625664</th>\n",
       "      <td>0.933081</td>\n",
       "      <td>0.000677</td>\n",
       "      <td>0.933597</td>\n",
       "      <td>56.501144</td>\n",
       "    </tr>\n",
       "    <tr>\n",
       "      <th>1335568909517385728</th>\n",
       "      <td>0.864048</td>\n",
       "      <td>0.002166</td>\n",
       "      <td>0.865698</td>\n",
       "      <td>49.477293</td>\n",
       "    </tr>\n",
       "    <tr>\n",
       "      <th>1335568909949399040</th>\n",
       "      <td>0.538773</td>\n",
       "      <td>0.000358</td>\n",
       "      <td>0.539046</td>\n",
       "      <td>57.722008</td>\n",
       "    </tr>\n",
       "  </tbody>\n",
       "</table>\n",
       "</div>"
      ],
      "text/plain": [
       "                       tf-idf   partial  personalized         w2v\n",
       "1335568907516559360  0.538773  0.001226      0.539707  103.341381\n",
       "1335568908254769153  0.659922  0.000182      0.660061   55.017729\n",
       "1335568909072625664  0.933081  0.000677      0.933597   56.501144\n",
       "1335568909517385728  0.864048  0.002166      0.865698   49.477293\n",
       "1335568909949399040  0.538773  0.000358      0.539046   57.722008"
      ]
     },
     "execution_count": 5,
     "metadata": {},
     "output_type": "execute_result"
    }
   ],
   "source": [
    "scores = personalized_rank(query, index, tf, idf, tweetsDict, data)\n",
    "scores.head()"
   ]
  },
  {
   "cell_type": "code",
   "execution_count": 6,
   "metadata": {},
   "outputs": [
    {
     "data": {
      "text/html": [
       "<div>\n",
       "<style scoped>\n",
       "    .dataframe tbody tr th:only-of-type {\n",
       "        vertical-align: middle;\n",
       "    }\n",
       "\n",
       "    .dataframe tbody tr th {\n",
       "        vertical-align: top;\n",
       "    }\n",
       "\n",
       "    .dataframe thead th {\n",
       "        text-align: right;\n",
       "    }\n",
       "</style>\n",
       "<table border=\"1\" class=\"dataframe\">\n",
       "  <thead>\n",
       "    <tr style=\"text-align: right;\">\n",
       "      <th></th>\n",
       "      <th>tf-idf</th>\n",
       "      <th>partial</th>\n",
       "      <th>personalized</th>\n",
       "      <th>w2v</th>\n",
       "      <th>Text</th>\n",
       "      <th>Cluster</th>\n",
       "    </tr>\n",
       "  </thead>\n",
       "  <tbody>\n",
       "    <tr>\n",
       "      <th>1335568907516559360</th>\n",
       "      <td>0.538773</td>\n",
       "      <td>0.001226</td>\n",
       "      <td>0.539707</td>\n",
       "      <td>103.341381</td>\n",
       "      <td>I vote #AshishSharma  for Modi 2\\nThe journey ...</td>\n",
       "      <td>1</td>\n",
       "    </tr>\n",
       "    <tr>\n",
       "      <th>1335568908254769153</th>\n",
       "      <td>0.659922</td>\n",
       "      <td>0.000182</td>\n",
       "      <td>0.660061</td>\n",
       "      <td>55.017729</td>\n",
       "      <td>RT @jaehyunbom__: JAEHYUN SAID TO VOTE!!\\n\\n#M...</td>\n",
       "      <td>2</td>\n",
       "    </tr>\n",
       "    <tr>\n",
       "      <th>1335568909072625664</th>\n",
       "      <td>0.933081</td>\n",
       "      <td>0.000677</td>\n",
       "      <td>0.933597</td>\n",
       "      <td>56.501144</td>\n",
       "      <td>yall we didnt vote for fave male group ...</td>\n",
       "      <td>2</td>\n",
       "    </tr>\n",
       "    <tr>\n",
       "      <th>1335568909517385728</th>\n",
       "      <td>0.864048</td>\n",
       "      <td>0.002166</td>\n",
       "      <td>0.865698</td>\n",
       "      <td>49.477293</td>\n",
       "      <td>RT @ArtValley818_: List of the 25 RINOs who sa...</td>\n",
       "      <td>2</td>\n",
       "    </tr>\n",
       "    <tr>\n",
       "      <th>1335568909949399040</th>\n",
       "      <td>0.538773</td>\n",
       "      <td>0.000358</td>\n",
       "      <td>0.539046</td>\n",
       "      <td>57.722008</td>\n",
       "      <td>@BTSNewsBrasil I vote for #BTS for Worldwide F...</td>\n",
       "      <td>2</td>\n",
       "    </tr>\n",
       "  </tbody>\n",
       "</table>\n",
       "</div>"
      ],
      "text/plain": [
       "                       tf-idf   partial  personalized         w2v  \\\n",
       "1335568907516559360  0.538773  0.001226      0.539707  103.341381   \n",
       "1335568908254769153  0.659922  0.000182      0.660061   55.017729   \n",
       "1335568909072625664  0.933081  0.000677      0.933597   56.501144   \n",
       "1335568909517385728  0.864048  0.002166      0.865698   49.477293   \n",
       "1335568909949399040  0.538773  0.000358      0.539046   57.722008   \n",
       "\n",
       "                                                                  Text  \\\n",
       "1335568907516559360  I vote #AshishSharma  for Modi 2\\nThe journey ...   \n",
       "1335568908254769153  RT @jaehyunbom__: JAEHYUN SAID TO VOTE!!\\n\\n#M...   \n",
       "1335568909072625664         yall we didnt vote for fave male group ...   \n",
       "1335568909517385728  RT @ArtValley818_: List of the 25 RINOs who sa...   \n",
       "1335568909949399040  @BTSNewsBrasil I vote for #BTS for Worldwide F...   \n",
       "\n",
       "                     Cluster  \n",
       "1335568907516559360        1  \n",
       "1335568908254769153        2  \n",
       "1335568909072625664        2  \n",
       "1335568909517385728        2  \n",
       "1335568909949399040        2  "
      ]
     },
     "execution_count": 6,
     "metadata": {},
     "output_type": "execute_result"
    }
   ],
   "source": [
    "# Append clusters to scores results\n",
    "scores.index = scores.index.astype('int64')\n",
    "scores = scores.join(cluster_df, how= \"left\")\n",
    "scores.head()"
   ]
  },
  {
   "cell_type": "markdown",
   "metadata": {},
   "source": [
    "## 3. Diversity score\n",
    "Diversity score aggregates a partial score to the tf-idf score, therefore, it has to be computed with respect to a certain query"
   ]
  },
  {
   "cell_type": "markdown",
   "metadata": {},
   "source": [
    "\\begin{equation*} \\mathbf{diversity\\_score = tfidf + \\lambda * partial\\_score} \\end{equation*}\n",
    "Where: \n",
    "\n",
    "- $\\lambda = 1/3 * max(tfidf)$ regulating the impact on the score \n",
    "\n",
    "- $ partial\\_score = 1 - \\frac{cluster\\_size}{total\\_size}$"
   ]
  },
  {
   "cell_type": "code",
   "execution_count": 7,
   "metadata": {},
   "outputs": [],
   "source": [
    "# Compute diversity score\n",
    "div_score = []\n",
    "lamb = 1/3\n",
    "clusters_size = scores.Cluster.value_counts()\n",
    "max_tfidf = scores[\"tf-idf\"].max(axis=0)\n",
    "for i, value in scores.iterrows():\n",
    "    partial = 1 - clusters_size[value[\"Cluster\"]]/len(scores)\n",
    "    score = value[\"tf-idf\"] + lamb * max_tfidf * partial\n",
    "    div_score.append(score)\n",
    "    \n",
    "# Add it to scores dataFrame\n",
    "scores[\"diversity\"] = div_score"
   ]
  },
  {
   "cell_type": "markdown",
   "metadata": {},
   "source": [
    "## 4. Visualize the impact of the diversity score "
   ]
  },
  {
   "cell_type": "markdown",
   "metadata": {},
   "source": [
    "See tf-idf and diversity score for the test query:"
   ]
  },
  {
   "cell_type": "code",
   "execution_count": 8,
   "metadata": {},
   "outputs": [
    {
     "data": {
      "text/html": [
       "<div>\n",
       "<style scoped>\n",
       "    .dataframe tbody tr th:only-of-type {\n",
       "        vertical-align: middle;\n",
       "    }\n",
       "\n",
       "    .dataframe tbody tr th {\n",
       "        vertical-align: top;\n",
       "    }\n",
       "\n",
       "    .dataframe thead th {\n",
       "        text-align: right;\n",
       "    }\n",
       "</style>\n",
       "<table border=\"1\" class=\"dataframe\">\n",
       "  <thead>\n",
       "    <tr style=\"text-align: right;\">\n",
       "      <th></th>\n",
       "      <th>tf-idf</th>\n",
       "      <th>diversity</th>\n",
       "      <th>Cluster</th>\n",
       "    </tr>\n",
       "  </thead>\n",
       "  <tbody>\n",
       "    <tr>\n",
       "      <th>1335568907516559360</th>\n",
       "      <td>0.538773</td>\n",
       "      <td>1.064015</td>\n",
       "      <td>1</td>\n",
       "    </tr>\n",
       "    <tr>\n",
       "      <th>1335568908254769153</th>\n",
       "      <td>0.659922</td>\n",
       "      <td>0.995110</td>\n",
       "      <td>2</td>\n",
       "    </tr>\n",
       "    <tr>\n",
       "      <th>1335568909072625664</th>\n",
       "      <td>0.933081</td>\n",
       "      <td>1.268268</td>\n",
       "      <td>2</td>\n",
       "    </tr>\n",
       "    <tr>\n",
       "      <th>1335568909517385728</th>\n",
       "      <td>0.864048</td>\n",
       "      <td>1.199236</td>\n",
       "      <td>2</td>\n",
       "    </tr>\n",
       "    <tr>\n",
       "      <th>1335568909949399040</th>\n",
       "      <td>0.538773</td>\n",
       "      <td>0.873961</td>\n",
       "      <td>2</td>\n",
       "    </tr>\n",
       "  </tbody>\n",
       "</table>\n",
       "</div>"
      ],
      "text/plain": [
       "                       tf-idf  diversity  Cluster\n",
       "1335568907516559360  0.538773   1.064015        1\n",
       "1335568908254769153  0.659922   0.995110        2\n",
       "1335568909072625664  0.933081   1.268268        2\n",
       "1335568909517385728  0.864048   1.199236        2\n",
       "1335568909949399040  0.538773   0.873961        2"
      ]
     },
     "execution_count": 8,
     "metadata": {},
     "output_type": "execute_result"
    }
   ],
   "source": [
    "scores[[\"tf-idf\", \"diversity\", \"Cluster\"]].head()"
   ]
  },
  {
   "cell_type": "markdown",
   "metadata": {},
   "source": [
    "Display top-5 results sorting by both scores"
   ]
  },
  {
   "cell_type": "code",
   "execution_count": 9,
   "metadata": {},
   "outputs": [
    {
     "name": "stdout",
     "output_type": "stream",
     "text": [
      "\u001b[32m\n",
      "Top-20 documents sorted by tf-idf score\u001b[0m\n",
      "\u001b[2m1335563686526787584:\u001b[0m Did we\u001b[35m vote\u001b[0m for this?\n",
      "\n",
      "\u001b[2m1335576417753559040:\u001b[0m @LLinWood\u001b[35m VOTE\u001b[0m\u001b[35m VOTE\u001b[0m\u001b[35m VOTE\u001b[0m TRUMP SAID\u001b[35m VOTE!!\u001b[0m SO YOU BETTER\u001b[35m VOTE.\u001b[0m DO NOT LISTEN TO THIS DEMOCRAT\n",
      "\n",
      "\u001b[2m1335559290854268936:\u001b[0m @BLACK4PINKS_ @mandujenduk @OH_mes2 Ok these are the results Kblinks tweet it Worldwide Fans'Choice TOP 10 BTS\u001b[35m vote\u001b[0m 7,009,302 Blackpink\u001b[35m vote\u001b[0m 3,441,450 NCT\u001b[35m vote\u001b[0m 1,558,362 Seventeen\u001b[35m vote\u001b[0m 1,557,358 Twice\u001b[35m vote\u001b[0m 1,411,877 Treasure\u001b[35m vote\u001b[0m 1,147,150, EXO\u001b[35m vote\u001b[0m 939,661 Ateez\u001b[35m vote\u001b[0m 915,812 TXT\u001b[35m vote\u001b[0m 911,042 GOT7\u001b[35m vote\u001b[0m 863,344\n",
      "\n",
      "\u001b[2m1335571429090340865:\u001b[0m @BTSChartDailyx @BTS_twt Better to\u001b[35m vote\u001b[0m here too! Only 17 hours left to\u001b[35m vote!\u001b[0m 🚨 #2 (↓) TMA Popularity – -7,519 gap\u001b[35m VOTE\u001b[0m NOW PLEASE !!!🙏🙏\u001b[35m Vote\u001b[0m here: https://t.co/bEC9gCLr8S https://t.co/kacxXb7aL1 https://t.co/YBpVYW5yvu\n",
      "\n",
      "\u001b[2m1335565369407369217:\u001b[0m @btsvotingorg @BTS_twt Better to\u001b[35m vote\u001b[0m here too! Only 17 hours left to\u001b[35m vote!\u001b[0m 🚨 #2 (↓) TMA Popularity – -7,519 gap\u001b[35m VOTE\u001b[0m NOW PLEASE !!!\u001b[35m Vote\u001b[0m here: https://t.co/bEC9gCLr8S https://t.co/kacxXb7aL1 https://t.co/tO2ViRwCr4\n",
      "\n",
      "\u001b[2m1335571194855079937:\u001b[0m @glxssytan @BTS_History613 @BTS_twt Better to\u001b[35m vote\u001b[0m here too! Only 17 hours left to\u001b[35m vote!\u001b[0m 🚨 #2 (↓) TMA Popularity – -7,519 gap\u001b[35m VOTE\u001b[0m NOW PLEASE !!! 🙏🙏🙏\u001b[35m Vote\u001b[0m here: https://t.co/bEC9gCLr8S https://t.co/kacxXb7aL1 https://t.co/V2xN4kdYHO\n",
      "\n",
      "\u001b[2m1335572531252785155:\u001b[0m RT @Greatsagoe: Don’t\u001b[35m vote.\u001b[0m If you do\u001b[35m vote,\u001b[0m then you can’t complain to the public because you choose that “NPP or NDC”. If you didn’t\u001b[35m vote,…\u001b[0m\n",
      "\n",
      "\u001b[2m1335568912457625601:\u001b[0m\u001b[35m VOTE\u001b[0m WONDER https://t.co/FEWVRebWwp\n",
      "\n",
      "\u001b[2m1335574719060455424:\u001b[0m How would you\u001b[35m vote?\u001b[0m https://t.co/IAaoQBkQZc\n",
      "\n",
      "\u001b[2m1335559303390871554:\u001b[0m\u001b[35m VOTE\u001b[0m GUYS https://t.co/MnhozzjIlV\n",
      "\n",
      "\u001b[2m1335574729881579521:\u001b[0m RT @btsvotingorg: Better to\u001b[35m vote\u001b[0m here too! Only 17 hours left to\u001b[35m vote!\u001b[0m 🚨 #2 (↓) TMA Popularity – -7,519 gap\u001b[35m Vote\u001b[0m here: https://t.co/8HrnH…\n",
      "\n",
      "\u001b[2m1335568974701064193:\u001b[0m RT @btsvotingorg: Better to\u001b[35m vote\u001b[0m here too! Only 17 hours left to\u001b[35m vote!\u001b[0m 🚨 #2 (↓) TMA Popularity – -7,519 gap\u001b[35m Vote\u001b[0m here: https://t.co/8HrnH…\n",
      "\n",
      "\u001b[2m1335567390965379075:\u001b[0m RT @btsvotingorg: Better to\u001b[35m vote\u001b[0m here too! Only 17 hours left to\u001b[35m vote!\u001b[0m 🚨 #2 (↓) TMA Popularity – -7,519 gap\u001b[35m Vote\u001b[0m here: https://t.co/8HrnH…\n",
      "\n",
      "\u001b[2m1335572520662048768:\u001b[0m RT @btsvotingorg: Better to\u001b[35m vote\u001b[0m here too! Only 17 hours left to\u001b[35m vote!\u001b[0m 🚨 #2 (↓) TMA Popularity – -7,519 gap\u001b[35m Vote\u001b[0m here: https://t.co/8HrnH…\n",
      "\n",
      "\u001b[2m1335572565574631427:\u001b[0m RT @maerd_kh: @BTSChartDailyx Better to\u001b[35m vote\u001b[0m here too! Only 17 hours left to\u001b[35m vote!\u001b[0m 🚨 #2 (↓) TMA Popularity – -7,519 gap\u001b[35m VOTE\u001b[0m NOW PLEASE !…\n",
      "\n",
      "\u001b[2m1335567381897375749:\u001b[0m Your guns are in Georgia’s hands !\u001b[35m Vote\u001b[0m Blue they’re gone !\u001b[35m Vote\u001b[0m Red keep !\u001b[35m VOTE\u001b[0m RED ! ! ! ! !\n",
      "\n",
      "\u001b[2m1335567863055220737:\u001b[0m RT @Sky_Lee_1: @marceelias 🍑REGISTER TO\u001b[35m VOTE\u001b[0m GEORGIA🍑 ⏰DEADLINE IS MONDAY 12/7⏰ 🗓Register to\u001b[35m #Vote\u001b[0m by December 7th! ⏩https://t.co/v3mGo8H…\n",
      "\n",
      "\u001b[2m1335565394824859648:\u001b[0m RT @WordswithSteph: A\u001b[35m vote\u001b[0m for Warnock and Ossoff is a\u001b[35m vote\u001b[0m for economic stimulus for Georgians. Pass it on.\n",
      "\n",
      "\u001b[2m1335559249846525952:\u001b[0m RT @JamesKosur: A\u001b[35m vote\u001b[0m for Warnock and Ossoff is a\u001b[35m vote\u001b[0m for economic stimulus for Georgians. Pass it on.\n",
      "\n",
      "\u001b[2m1335571418474536962:\u001b[0m RT @ReallyAmerican1: A\u001b[35m vote\u001b[0m for Warnock and Ossoff is a\u001b[35m vote\u001b[0m for economic stimulus for Georgians. Pass it on.\n",
      "\n"
     ]
    }
   ],
   "source": [
    "display_ranking(scores, tweetsDict, query, score = \"tf-idf\", top_k = topk)"
   ]
  },
  {
   "cell_type": "code",
   "execution_count": 10,
   "metadata": {},
   "outputs": [
    {
     "name": "stdout",
     "output_type": "stream",
     "text": [
      "\u001b[32m\n",
      "Top-20 documents sorted by diversity score\u001b[0m\n",
      "\u001b[2m1335563686526787584:\u001b[0m Did we\u001b[35m vote\u001b[0m for this?\n",
      "\n",
      "\u001b[2m1335576417753559040:\u001b[0m @LLinWood\u001b[35m VOTE\u001b[0m\u001b[35m VOTE\u001b[0m\u001b[35m VOTE\u001b[0m TRUMP SAID\u001b[35m VOTE!!\u001b[0m SO YOU BETTER\u001b[35m VOTE.\u001b[0m DO NOT LISTEN TO THIS DEMOCRAT\n",
      "\n",
      "\u001b[2m1335559290854268936:\u001b[0m @BLACK4PINKS_ @mandujenduk @OH_mes2 Ok these are the results Kblinks tweet it Worldwide Fans'Choice TOP 10 BTS\u001b[35m vote\u001b[0m 7,009,302 Blackpink\u001b[35m vote\u001b[0m 3,441,450 NCT\u001b[35m vote\u001b[0m 1,558,362 Seventeen\u001b[35m vote\u001b[0m 1,557,358 Twice\u001b[35m vote\u001b[0m 1,411,877 Treasure\u001b[35m vote\u001b[0m 1,147,150, EXO\u001b[35m vote\u001b[0m 939,661 Ateez\u001b[35m vote\u001b[0m 915,812 TXT\u001b[35m vote\u001b[0m 911,042 GOT7\u001b[35m vote\u001b[0m 863,344\n",
      "\n",
      "\u001b[2m1335565369407369217:\u001b[0m @btsvotingorg @BTS_twt Better to\u001b[35m vote\u001b[0m here too! Only 17 hours left to\u001b[35m vote!\u001b[0m 🚨 #2 (↓) TMA Popularity – -7,519 gap\u001b[35m VOTE\u001b[0m NOW PLEASE !!!\u001b[35m Vote\u001b[0m here: https://t.co/bEC9gCLr8S https://t.co/kacxXb7aL1 https://t.co/tO2ViRwCr4\n",
      "\n",
      "\u001b[2m1335571429090340865:\u001b[0m @BTSChartDailyx @BTS_twt Better to\u001b[35m vote\u001b[0m here too! Only 17 hours left to\u001b[35m vote!\u001b[0m 🚨 #2 (↓) TMA Popularity – -7,519 gap\u001b[35m VOTE\u001b[0m NOW PLEASE !!!🙏🙏\u001b[35m Vote\u001b[0m here: https://t.co/bEC9gCLr8S https://t.co/kacxXb7aL1 https://t.co/YBpVYW5yvu\n",
      "\n",
      "\u001b[2m1335571194855079937:\u001b[0m @glxssytan @BTS_History613 @BTS_twt Better to\u001b[35m vote\u001b[0m here too! Only 17 hours left to\u001b[35m vote!\u001b[0m 🚨 #2 (↓) TMA Popularity – -7,519 gap\u001b[35m VOTE\u001b[0m NOW PLEASE !!! 🙏🙏🙏\u001b[35m Vote\u001b[0m here: https://t.co/bEC9gCLr8S https://t.co/kacxXb7aL1 https://t.co/V2xN4kdYHO\n",
      "\n",
      "\u001b[2m1335559303390871554:\u001b[0m\u001b[35m VOTE\u001b[0m GUYS https://t.co/MnhozzjIlV\n",
      "\n",
      "\u001b[2m1335568912457625601:\u001b[0m\u001b[35m VOTE\u001b[0m WONDER https://t.co/FEWVRebWwp\n",
      "\n",
      "\u001b[2m1335572531252785155:\u001b[0m RT @Greatsagoe: Don’t\u001b[35m vote.\u001b[0m If you do\u001b[35m vote,\u001b[0m then you can’t complain to the public because you choose that “NPP or NDC”. If you didn’t\u001b[35m vote,…\u001b[0m\n",
      "\n",
      "\u001b[2m1335574719060455424:\u001b[0m How would you\u001b[35m vote?\u001b[0m https://t.co/IAaoQBkQZc\n",
      "\n",
      "\u001b[2m1335572520662048768:\u001b[0m RT @btsvotingorg: Better to\u001b[35m vote\u001b[0m here too! Only 17 hours left to\u001b[35m vote!\u001b[0m 🚨 #2 (↓) TMA Popularity – -7,519 gap\u001b[35m Vote\u001b[0m here: https://t.co/8HrnH…\n",
      "\n",
      "\u001b[2m1335568974701064193:\u001b[0m RT @btsvotingorg: Better to\u001b[35m vote\u001b[0m here too! Only 17 hours left to\u001b[35m vote!\u001b[0m 🚨 #2 (↓) TMA Popularity – -7,519 gap\u001b[35m Vote\u001b[0m here: https://t.co/8HrnH…\n",
      "\n",
      "\u001b[2m1335574729881579521:\u001b[0m RT @btsvotingorg: Better to\u001b[35m vote\u001b[0m here too! Only 17 hours left to\u001b[35m vote!\u001b[0m 🚨 #2 (↓) TMA Popularity – -7,519 gap\u001b[35m Vote\u001b[0m here: https://t.co/8HrnH…\n",
      "\n",
      "\u001b[2m1335567390965379075:\u001b[0m RT @btsvotingorg: Better to\u001b[35m vote\u001b[0m here too! Only 17 hours left to\u001b[35m vote!\u001b[0m 🚨 #2 (↓) TMA Popularity – -7,519 gap\u001b[35m Vote\u001b[0m here: https://t.co/8HrnH…\n",
      "\n",
      "\u001b[2m1335571189910167552:\u001b[0m RT @buzzman888: - .@realDonaldTrump “A lot of people, friends of mine, say, ‘Let’s not\u001b[35m vote,\u001b[0m we’re not going to\u001b[35m vote\u001b[0m because we’re angry a…\n",
      "\n",
      "\u001b[2m1335568948927016961:\u001b[0m RT @buzzman888: - .@realDonaldTrump “A lot of people, friends of mine, say, ‘Let’s not\u001b[35m vote,\u001b[0m we’re not going to\u001b[35m vote\u001b[0m because we’re angry a…\n",
      "\n",
      "\u001b[2m1335571425101410304:\u001b[0m RT @buzzman888: - .@realDonaldTrump “A lot of people, friends of mine, say, ‘Let’s not\u001b[35m vote,\u001b[0m we’re not going to\u001b[35m vote\u001b[0m because we’re angry a…\n",
      "\n",
      "\u001b[2m1335576399210549253:\u001b[0m Come on Georgia don't let the rest of us down. #senate\u001b[35m #vote\u001b[0m https://t.co/9XJBk5ceZy\n",
      "\n",
      "\u001b[2m1335567381897375749:\u001b[0m Your guns are in Georgia’s hands !\u001b[35m Vote\u001b[0m Blue they’re gone !\u001b[35m Vote\u001b[0m Red keep !\u001b[35m VOTE\u001b[0m RED ! ! ! ! !\n",
      "\n",
      "\u001b[2m1335572565574631427:\u001b[0m RT @maerd_kh: @BTSChartDailyx Better to\u001b[35m vote\u001b[0m here too! Only 17 hours left to\u001b[35m vote!\u001b[0m 🚨 #2 (↓) TMA Popularity – -7,519 gap\u001b[35m VOTE\u001b[0m NOW PLEASE !…\n",
      "\n"
     ]
    }
   ],
   "source": [
    "display_ranking(scores, tweetsDict, query, score = \"diversity\", top_k = topk)"
   ]
  },
  {
   "cell_type": "code",
   "execution_count": 11,
   "metadata": {},
   "outputs": [],
   "source": [
    "def store_query_and_results(scores, query, topk):\n",
    "    # Store queries\n",
    "    try: df = pd.read_csv(\"../other-outputs/RQ2_queries.tsv\", sep=\"\\t\")\n",
    "    except: df = pd.DataFrame(columns = [\"id\", \"query\"])\n",
    "        \n",
    "    if query not in df[\"query\"].values:\n",
    "        query_id = len(df) + 1\n",
    "        df = df.append({\"id\":query_id, \"query\":query}, ignore_index=True)\n",
    "        df.to_csv(\"../other-outputs/RQ2_queries.tsv\", sep=\"\\t\", index=False)\n",
    "\n",
    "    else: query_id = int(df[df[\"query\"] == query][\"id\"].values)\n",
    "    \n",
    "    # Store results\n",
    "    scores_df1 = scores[[\"tf-idf\", \"Text\", \"Cluster\"]].sort_values(by=\"tf-idf\", ascending=False)[:topk]\n",
    "    scores_df1.to_csv(\"../other-outputs/RQ2_Q{}_noDiversity.tsv\".format(query_id), sep=\"\\t\", index_label = \"Tweet id\")\n",
    "\n",
    "    scores_df2 = scores[[\"diversity\", \"Text\", \"Cluster\"]].sort_values(by=\"diversity\", ascending=False)[:topk]\n",
    "    scores_df2.to_csv(\"../other-outputs/RQ2_Q{}_diversity.tsv\".format(query_id), sep=\"\\t\", index_label = \"Tweet id\")"
   ]
  },
  {
   "cell_type": "code",
   "execution_count": 12,
   "metadata": {},
   "outputs": [],
   "source": [
    "store_query_and_results(scores, query, topk)"
   ]
  },
  {
   "cell_type": "markdown",
   "metadata": {},
   "source": [
    "## 5. Coverage and ranking difference"
   ]
  },
  {
   "cell_type": "markdown",
   "metadata": {},
   "source": [
    "Compute **correlation coefficient** between original (tf-idf score) and diversity score"
   ]
  },
  {
   "cell_type": "code",
   "execution_count": 13,
   "metadata": {},
   "outputs": [
    {
     "name": "stdout",
     "output_type": "stream",
     "text": [
      "Correlation coefficient betweet tf-idf and diversity scores: 0.575\n"
     ]
    }
   ],
   "source": [
    "coef, p = spearmanr(scores[\"tf-idf\"], scores[\"diversity\"])\n",
    "print(\"Correlation coefficient betweet tf-idf and diversity scores: {}\". format(round(coef, 3)))"
   ]
  },
  {
   "cell_type": "markdown",
   "metadata": {},
   "source": [
    "Compute **coverage** for both scores"
   ]
  },
  {
   "cell_type": "code",
   "execution_count": 14,
   "metadata": {},
   "outputs": [],
   "source": [
    "def plot_coverage(df, score, topk):\n",
    "    clusters = df.sort_values(by = score, ascending = False)[:topk][\"Cluster\"]\n",
    "    fig = plt.figure(figsize=(20,7))\n",
    "    count = dict(sorted(clusters.value_counts().items()))\n",
    "    to_plot = {}\n",
    "    \n",
    "    for c in range(3):\n",
    "        try: to_plot[c] = count[c]\n",
    "        except: to_plot[c] = 0\n",
    "            \n",
    "    plt.barh(list(to_plot.keys()), to_plot.values(), color = \"lightblue\")\n",
    "    \n",
    "    plt.xlabel(\"Count in top-{}\".format(topk), fontsize=15)\n",
    "    plt.ylabel(\"Clusters\", fontsize=15)\n",
    "    plt.title(\"Clusters coverage using {} score\".format(score), fontsize = 20)\n",
    "    "
   ]
  },
  {
   "cell_type": "code",
   "execution_count": 15,
   "metadata": {},
   "outputs": [
    {
     "data": {
      "image/png": "[encoded data removed]",
      "text/plain": [
       "<Figure size 1440x504 with 1 Axes>"
      ]
     },
     "metadata": {
      "needs_background": "light"
     },
     "output_type": "display_data"
    },
    {
     "data": {
      "image/png": "[encoded data removed]",
      "text/plain": [
       "<Figure size 1440x504 with 1 Axes>"
      ]
     },
     "metadata": {
      "needs_background": "light"
     },
     "output_type": "display_data"
    }
   ],
   "source": [
    "plot_coverage(scores, \"tf-idf\", topk)\n",
    "plot_coverage(scores, \"diversity\", topk)"
   ]
  }
 ],
 "metadata": {
  "kernelspec": {
   "display_name": "Python 3",
   "language": "python",
   "name": "python3"
  },
  "language_info": {
   "codemirror_mode": {
    "name": "ipython",
    "version": 3
   },
   "file_extension": ".py",
   "mimetype": "text/x-python",
   "name": "python",
   "nbconvert_exporter": "python",
   "pygments_lexer": "ipython3",
   "version": "3.7.4"
  }
 },
 "nbformat": 4,
 "nbformat_minor": 4
}
