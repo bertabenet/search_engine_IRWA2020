{
 "cells": [
  {
   "cell_type": "code",
   "execution_count": 21,
   "metadata": {},
   "outputs": [],
   "source": [
    "import sys  \n",
    "sys.path.insert(0, '../search-engine')\n",
    "from utils import *\n",
    "import pandas as pd\n",
    "from scipy.stats import spearmanr"
   ]
  },
  {
   "cell_type": "markdown",
   "metadata": {},
   "source": [
    "# NB2: Output Diversification"
   ]
  },
  {
   "cell_type": "markdown",
   "metadata": {},
   "source": [
    "## 0. Import data\n",
    "Import data from search engine and clustering from NB1: Output Analysis"
   ]
  },
  {
   "cell_type": "code",
   "execution_count": 3,
   "metadata": {},
   "outputs": [],
   "source": [
    "# Import data and work with a sample of size 10000\n",
    "data = get_tweets(None, None, mode = \"read\", data_directory = '../data/')\n",
    "data = data[:10000]\n",
    "\n",
    "# Create tweetsDict, inverted index and tf, df, idf for each term of the sample data\n",
    "tweetsDict = create_tweets_dict(data)\n",
    "index, tf, df, idf = create_index_tfidf(data, len(data))"
   ]
  },
  {
   "cell_type": "code",
   "execution_count": 8,
   "metadata": {},
   "outputs": [
    {
     "data": {
      "text/html": [
       "<div>\n",
       "<style scoped>\n",
       "    .dataframe tbody tr th:only-of-type {\n",
       "        vertical-align: middle;\n",
       "    }\n",
       "\n",
       "    .dataframe tbody tr th {\n",
       "        vertical-align: top;\n",
       "    }\n",
       "\n",
       "    .dataframe thead th {\n",
       "        text-align: right;\n",
       "    }\n",
       "</style>\n",
       "<table border=\"1\" class=\"dataframe\">\n",
       "  <thead>\n",
       "    <tr style=\"text-align: right;\">\n",
       "      <th></th>\n",
       "      <th>Text</th>\n",
       "      <th>Cluster</th>\n",
       "    </tr>\n",
       "  </thead>\n",
       "  <tbody>\n",
       "    <tr>\n",
       "      <th>1335568906937896960</th>\n",
       "      <td>RT @9NEWSNANCY: 🤬@SpeakerPelosi has a LOT of d...</td>\n",
       "      <td>2</td>\n",
       "    </tr>\n",
       "    <tr>\n",
       "      <th>1335568907059466241</th>\n",
       "      <td>The Canadian strikes again https://t.co/Wj2i8L...</td>\n",
       "      <td>2</td>\n",
       "    </tr>\n",
       "    <tr>\n",
       "      <th>1335568907059535874</th>\n",
       "      <td>Call your legislators! #FightForTrump https://...</td>\n",
       "      <td>0</td>\n",
       "    </tr>\n",
       "    <tr>\n",
       "      <th>1335568907139231744</th>\n",
       "      <td>RT @BernardKerik: These are the four cowardice...</td>\n",
       "      <td>2</td>\n",
       "    </tr>\n",
       "    <tr>\n",
       "      <th>1335568907311132674</th>\n",
       "      <td>RT @realDonaldTrump: The answer to the Democra...</td>\n",
       "      <td>0</td>\n",
       "    </tr>\n",
       "  </tbody>\n",
       "</table>\n",
       "</div>"
      ],
      "text/plain": [
       "                                                                  Text  \\\n",
       "1335568906937896960  RT @9NEWSNANCY: 🤬@SpeakerPelosi has a LOT of d...   \n",
       "1335568907059466241  The Canadian strikes again https://t.co/Wj2i8L...   \n",
       "1335568907059535874  Call your legislators! #FightForTrump https://...   \n",
       "1335568907139231744  RT @BernardKerik: These are the four cowardice...   \n",
       "1335568907311132674  RT @realDonaldTrump: The answer to the Democra...   \n",
       "\n",
       "                     Cluster  \n",
       "1335568906937896960        2  \n",
       "1335568907059466241        2  \n",
       "1335568907059535874        0  \n",
       "1335568907139231744        2  \n",
       "1335568907311132674        0  "
      ]
     },
     "execution_count": 8,
     "metadata": {},
     "output_type": "execute_result"
    }
   ],
   "source": [
    "# Import clustering resulting from NB1 (QR1)\n",
    "cluster_df = pd.read_csv(\"../other-outputs/clustering_output_10000.csv\", index_col = \"Unnamed: 0\")\n",
    "cluster_df.head()"
   ]
  },
  {
   "cell_type": "markdown",
   "metadata": {},
   "source": [
    "<font color = \"DarkGreen\">\n",
    "    \n",
    "## All following steps are related to a specific **query** and the **top-k**.  Specify them in the following cell:\n",
    "</font>"
   ]
  },
  {
   "cell_type": "code",
   "execution_count": 31,
   "metadata": {},
   "outputs": [],
   "source": [
    "query = \"Trump\"\n",
    "topk = 10"
   ]
  },
  {
   "cell_type": "markdown",
   "metadata": {},
   "source": [
    "## 1. Compute scores"
   ]
  },
  {
   "cell_type": "markdown",
   "metadata": {},
   "source": [
    "Compute scores for specified query (tf-idf, personalized and w2v)"
   ]
  },
  {
   "cell_type": "code",
   "execution_count": 9,
   "metadata": {},
   "outputs": [
    {
     "data": {
      "text/html": [
       "<div>\n",
       "<style scoped>\n",
       "    .dataframe tbody tr th:only-of-type {\n",
       "        vertical-align: middle;\n",
       "    }\n",
       "\n",
       "    .dataframe tbody tr th {\n",
       "        vertical-align: top;\n",
       "    }\n",
       "\n",
       "    .dataframe thead th {\n",
       "        text-align: right;\n",
       "    }\n",
       "</style>\n",
       "<table border=\"1\" class=\"dataframe\">\n",
       "  <thead>\n",
       "    <tr style=\"text-align: right;\">\n",
       "      <th></th>\n",
       "      <th>tf-idf</th>\n",
       "      <th>partial</th>\n",
       "      <th>personalized</th>\n",
       "      <th>w2v</th>\n",
       "    </tr>\n",
       "  </thead>\n",
       "  <tbody>\n",
       "    <tr>\n",
       "      <th>1335568907311206400</th>\n",
       "      <td>0.432033</td>\n",
       "      <td>0.000111</td>\n",
       "      <td>0.432083</td>\n",
       "      <td>38.032317</td>\n",
       "    </tr>\n",
       "    <tr>\n",
       "      <th>1335568907411869698</th>\n",
       "      <td>0.379019</td>\n",
       "      <td>0.004974</td>\n",
       "      <td>0.381285</td>\n",
       "      <td>66.773098</td>\n",
       "    </tr>\n",
       "    <tr>\n",
       "      <th>1335568908481335297</th>\n",
       "      <td>0.379019</td>\n",
       "      <td>0.000005</td>\n",
       "      <td>0.379021</td>\n",
       "      <td>59.197474</td>\n",
       "    </tr>\n",
       "    <tr>\n",
       "      <th>1335568908812759040</th>\n",
       "      <td>0.394459</td>\n",
       "      <td>0.000073</td>\n",
       "      <td>0.394492</td>\n",
       "      <td>77.436772</td>\n",
       "    </tr>\n",
       "    <tr>\n",
       "      <th>1335568909072785411</th>\n",
       "      <td>0.507454</td>\n",
       "      <td>0.000009</td>\n",
       "      <td>0.507458</td>\n",
       "      <td>45.645381</td>\n",
       "    </tr>\n",
       "    <tr>\n",
       "      <th>...</th>\n",
       "      <td>...</td>\n",
       "      <td>...</td>\n",
       "      <td>...</td>\n",
       "      <td>...</td>\n",
       "    </tr>\n",
       "    <tr>\n",
       "      <th>1335563686803542018</th>\n",
       "      <td>0.411948</td>\n",
       "      <td>0.002139</td>\n",
       "      <td>0.412922</td>\n",
       "      <td>54.764674</td>\n",
       "    </tr>\n",
       "    <tr>\n",
       "      <th>1335563687311060999</th>\n",
       "      <td>0.483133</td>\n",
       "      <td>0.000245</td>\n",
       "      <td>0.483245</td>\n",
       "      <td>69.506792</td>\n",
       "    </tr>\n",
       "    <tr>\n",
       "      <th>1335563687453712390</th>\n",
       "      <td>0.411948</td>\n",
       "      <td>0.001637</td>\n",
       "      <td>0.412693</td>\n",
       "      <td>65.371779</td>\n",
       "    </tr>\n",
       "    <tr>\n",
       "      <th>1335563687935897602</th>\n",
       "      <td>0.411948</td>\n",
       "      <td>0.000645</td>\n",
       "      <td>0.412242</td>\n",
       "      <td>54.274665</td>\n",
       "    </tr>\n",
       "    <tr>\n",
       "      <th>1335563688015749120</th>\n",
       "      <td>0.611022</td>\n",
       "      <td>0.001263</td>\n",
       "      <td>0.611597</td>\n",
       "      <td>52.906091</td>\n",
       "    </tr>\n",
       "  </tbody>\n",
       "</table>\n",
       "<p>3107 rows × 4 columns</p>\n",
       "</div>"
      ],
      "text/plain": [
       "                       tf-idf   partial  personalized        w2v\n",
       "1335568907311206400  0.432033  0.000111      0.432083  38.032317\n",
       "1335568907411869698  0.379019  0.004974      0.381285  66.773098\n",
       "1335568908481335297  0.379019  0.000005      0.379021  59.197474\n",
       "1335568908812759040  0.394459  0.000073      0.394492  77.436772\n",
       "1335568909072785411  0.507454  0.000009      0.507458  45.645381\n",
       "...                       ...       ...           ...        ...\n",
       "1335563686803542018  0.411948  0.002139      0.412922  54.764674\n",
       "1335563687311060999  0.483133  0.000245      0.483245  69.506792\n",
       "1335563687453712390  0.411948  0.001637      0.412693  65.371779\n",
       "1335563687935897602  0.411948  0.000645      0.412242  54.274665\n",
       "1335563688015749120  0.611022  0.001263      0.611597  52.906091\n",
       "\n",
       "[3107 rows x 4 columns]"
      ]
     },
     "execution_count": 9,
     "metadata": {},
     "output_type": "execute_result"
    }
   ],
   "source": [
    "scores = personalized_rank(query, index, tf, idf, tweetsDict, data)\n",
    "scores.head()"
   ]
  },
  {
   "cell_type": "code",
   "execution_count": 10,
   "metadata": {},
   "outputs": [
    {
     "data": {
      "text/html": [
       "<div>\n",
       "<style scoped>\n",
       "    .dataframe tbody tr th:only-of-type {\n",
       "        vertical-align: middle;\n",
       "    }\n",
       "\n",
       "    .dataframe tbody tr th {\n",
       "        vertical-align: top;\n",
       "    }\n",
       "\n",
       "    .dataframe thead th {\n",
       "        text-align: right;\n",
       "    }\n",
       "</style>\n",
       "<table border=\"1\" class=\"dataframe\">\n",
       "  <thead>\n",
       "    <tr style=\"text-align: right;\">\n",
       "      <th></th>\n",
       "      <th>tf-idf</th>\n",
       "      <th>partial</th>\n",
       "      <th>personalized</th>\n",
       "      <th>w2v</th>\n",
       "      <th>Text</th>\n",
       "      <th>Cluster</th>\n",
       "    </tr>\n",
       "  </thead>\n",
       "  <tbody>\n",
       "    <tr>\n",
       "      <th>1335568907311206400</th>\n",
       "      <td>0.432033</td>\n",
       "      <td>0.000111</td>\n",
       "      <td>0.432083</td>\n",
       "      <td>38.032317</td>\n",
       "      <td>@SoCal_For_Life @DanScavino That’s disgusting....</td>\n",
       "      <td>0</td>\n",
       "    </tr>\n",
       "    <tr>\n",
       "      <th>1335568907411869698</th>\n",
       "      <td>0.379019</td>\n",
       "      <td>0.004974</td>\n",
       "      <td>0.381285</td>\n",
       "      <td>66.773098</td>\n",
       "      <td>RT @smalltownandrew: Donald Trump Demands Vote...</td>\n",
       "      <td>0</td>\n",
       "    </tr>\n",
       "    <tr>\n",
       "      <th>1335568908481335297</th>\n",
       "      <td>0.379019</td>\n",
       "      <td>0.000005</td>\n",
       "      <td>0.379021</td>\n",
       "      <td>59.197474</td>\n",
       "      <td>RT @mmpadellan: trump just told his Valdosta c...</td>\n",
       "      <td>0</td>\n",
       "    </tr>\n",
       "    <tr>\n",
       "      <th>1335568908812759040</th>\n",
       "      <td>0.394459</td>\n",
       "      <td>0.000073</td>\n",
       "      <td>0.394492</td>\n",
       "      <td>77.436772</td>\n",
       "      <td>RT @realDonaldTrump: ***Live Updates*** Trump ...</td>\n",
       "      <td>0</td>\n",
       "    </tr>\n",
       "    <tr>\n",
       "      <th>1335568909072785411</th>\n",
       "      <td>0.507454</td>\n",
       "      <td>0.000009</td>\n",
       "      <td>0.507458</td>\n",
       "      <td>45.645381</td>\n",
       "      <td>@petercbarbour @JennaEllisEsq No. That 2 minut...</td>\n",
       "      <td>2</td>\n",
       "    </tr>\n",
       "  </tbody>\n",
       "</table>\n",
       "</div>"
      ],
      "text/plain": [
       "                       tf-idf   partial  personalized        w2v  \\\n",
       "1335568907311206400  0.432033  0.000111      0.432083  38.032317   \n",
       "1335568907411869698  0.379019  0.004974      0.381285  66.773098   \n",
       "1335568908481335297  0.379019  0.000005      0.379021  59.197474   \n",
       "1335568908812759040  0.394459  0.000073      0.394492  77.436772   \n",
       "1335568909072785411  0.507454  0.000009      0.507458  45.645381   \n",
       "\n",
       "                                                                  Text  \\\n",
       "1335568907311206400  @SoCal_For_Life @DanScavino That’s disgusting....   \n",
       "1335568907411869698  RT @smalltownandrew: Donald Trump Demands Vote...   \n",
       "1335568908481335297  RT @mmpadellan: trump just told his Valdosta c...   \n",
       "1335568908812759040  RT @realDonaldTrump: ***Live Updates*** Trump ...   \n",
       "1335568909072785411  @petercbarbour @JennaEllisEsq No. That 2 minut...   \n",
       "\n",
       "                     Cluster  \n",
       "1335568907311206400        0  \n",
       "1335568907411869698        0  \n",
       "1335568908481335297        0  \n",
       "1335568908812759040        0  \n",
       "1335568909072785411        2  "
      ]
     },
     "execution_count": 10,
     "metadata": {},
     "output_type": "execute_result"
    }
   ],
   "source": [
    "# Append clusters to scores results\n",
    "scores.index = scores.index.astype('int64')\n",
    "scores = scores.join(cluster_df, how= \"left\")\n",
    "scores.head()"
   ]
  },
  {
   "cell_type": "markdown",
   "metadata": {},
   "source": [
    "## 3. Diversity score\n",
    "Diversity score aggregates a partial score to the tf-idf score, therefore, it has to be computed with respect to a certain query"
   ]
  },
  {
   "cell_type": "markdown",
   "metadata": {},
   "source": [
    "\\begin{equation*} \\mathbf{diversity\\_score = tfidf + \\lambda * partial\\_score} \\end{equation*}\n",
    "Where: \n",
    "\n",
    "- $\\lambda = 1/3 * max(tfidf)$ regulating the impact on the score \n",
    "\n",
    "- $ partial\\_score = 1 - \\frac{cluster\\_size}{total\\_size}$"
   ]
  },
  {
   "cell_type": "code",
   "execution_count": 14,
   "metadata": {},
   "outputs": [],
   "source": [
    "# Compute diversity score\n",
    "div_score = []\n",
    "lamb = 1/3\n",
    "clusters_size = scores.Cluster.value_counts()\n",
    "max_tfidf = scores[\"tf-idf\"].max(axis=0)\n",
    "for i, value in scores.iterrows():\n",
    "    partial = 1 - clusters_size[value[\"Cluster\"]]/len(scores)\n",
    "    score = value[\"tf-idf\"] + lamb * max_tfidf * partial\n",
    "    div_score.append(score)\n",
    "    \n",
    "# Add it to scores dataFrame\n",
    "scores[\"diversity\"] = div_score"
   ]
  },
  {
   "cell_type": "markdown",
   "metadata": {},
   "source": [
    "## 4. Visualize the impact of the diversity score "
   ]
  },
  {
   "cell_type": "markdown",
   "metadata": {},
   "source": [
    "See tf-idf and diversity score for the test query:"
   ]
  },
  {
   "cell_type": "code",
   "execution_count": 34,
   "metadata": {},
   "outputs": [
    {
     "data": {
      "text/html": [
       "<div>\n",
       "<style scoped>\n",
       "    .dataframe tbody tr th:only-of-type {\n",
       "        vertical-align: middle;\n",
       "    }\n",
       "\n",
       "    .dataframe tbody tr th {\n",
       "        vertical-align: top;\n",
       "    }\n",
       "\n",
       "    .dataframe thead th {\n",
       "        text-align: right;\n",
       "    }\n",
       "</style>\n",
       "<table border=\"1\" class=\"dataframe\">\n",
       "  <thead>\n",
       "    <tr style=\"text-align: right;\">\n",
       "      <th></th>\n",
       "      <th>tf-idf</th>\n",
       "      <th>diversity</th>\n",
       "      <th>Cluster</th>\n",
       "    </tr>\n",
       "  </thead>\n",
       "  <tbody>\n",
       "    <tr>\n",
       "      <th>1335568907311206400</th>\n",
       "      <td>0.432033</td>\n",
       "      <td>0.550327</td>\n",
       "      <td>0</td>\n",
       "    </tr>\n",
       "    <tr>\n",
       "      <th>1335568907411869698</th>\n",
       "      <td>0.379019</td>\n",
       "      <td>0.497314</td>\n",
       "      <td>0</td>\n",
       "    </tr>\n",
       "    <tr>\n",
       "      <th>1335568908481335297</th>\n",
       "      <td>0.379019</td>\n",
       "      <td>0.497314</td>\n",
       "      <td>0</td>\n",
       "    </tr>\n",
       "    <tr>\n",
       "      <th>1335568908812759040</th>\n",
       "      <td>0.394459</td>\n",
       "      <td>0.512753</td>\n",
       "      <td>0</td>\n",
       "    </tr>\n",
       "    <tr>\n",
       "      <th>1335568909072785411</th>\n",
       "      <td>0.507454</td>\n",
       "      <td>0.844602</td>\n",
       "      <td>2</td>\n",
       "    </tr>\n",
       "  </tbody>\n",
       "</table>\n",
       "</div>"
      ],
      "text/plain": [
       "                       tf-idf  diversity  Cluster\n",
       "1335568907311206400  0.432033   0.550327        0\n",
       "1335568907411869698  0.379019   0.497314        0\n",
       "1335568908481335297  0.379019   0.497314        0\n",
       "1335568908812759040  0.394459   0.512753        0\n",
       "1335568909072785411  0.507454   0.844602        2"
      ]
     },
     "execution_count": 34,
     "metadata": {},
     "output_type": "execute_result"
    }
   ],
   "source": [
    "scores[[\"tf-idf\", \"diversity\", \"Cluster\"]].head()"
   ]
  },
  {
   "cell_type": "markdown",
   "metadata": {},
   "source": [
    "Display top-5 results sorting by both scores"
   ]
  },
  {
   "cell_type": "code",
   "execution_count": 35,
   "metadata": {},
   "outputs": [
    {
     "name": "stdout",
     "output_type": "stream",
     "text": [
      "\u001b[32m\n",
      "Top-10 documents sorted by tf-idf score\u001b[0m\n",
      "\u001b[2m1335559283564453889:\u001b[0m\u001b[35m 🇺🇸trump\u001b[0m https://t.co/P3ctsnhebv\n",
      "\n",
      "\u001b[2m1335565393147080710:\u001b[0m *with\u001b[35m Trump\u001b[0m\n",
      "\n",
      "\u001b[2m1335568968795516928:\u001b[0m RT @BeNosey: UK HERE, I TOTALLY GET\u001b[35m TRUMP\u001b[0m\u001b[35m #TRUMP\u001b[0m https://t.co/COZIUWFFn6\n",
      "\n",
      "\u001b[2m1335568930216300544:\u001b[0m RT @JoyAnnReid: Nixon was the\u001b[35m Trump\u001b[0m before\u001b[35m Trump.\u001b[0m\n",
      "\n",
      "\u001b[2m1335567431499051010:\u001b[0m @ANINewsUP @ANI If they are farmer than i am\u001b[35m #Trump\u001b[0m\n",
      "\n",
      "\u001b[2m1335571192569270274:\u001b[0m @WarrenWhitlock Except\u001b[35m #Trump\u001b[0m maybe ? :-)\n",
      "\n",
      "\u001b[2m1335571398287368192:\u001b[0m\u001b[35m #Trump\u001b[0m is such a #Creep\n",
      "\n",
      "\u001b[2m1335567817530171392:\u001b[0m RT @Pollyanna1698:\u001b[35m Trump\u001b[0m Won!!! https://t.co/EFuNGXJhRb\n",
      "\n",
      "\u001b[2m1335572554698911744:\u001b[0m\u001b[35m Trump\u001b[0m card https://t.co/JpF6FuaiS8\n",
      "\n",
      "\u001b[2m1335559313788727302:\u001b[0m\u001b[35m Trump\u001b[0m Nation! https://t.co/Akjs7PFhRW\n",
      "\n"
     ]
    }
   ],
   "source": [
    "display_ranking(scores, tweetsDict, query, score = \"tf-idf\", top_k = topk)"
   ]
  },
  {
   "cell_type": "code",
   "execution_count": 36,
   "metadata": {},
   "outputs": [
    {
     "name": "stdout",
     "output_type": "stream",
     "text": [
      "\u001b[32m\n",
      "Top-10 documents sorted by diversity score\u001b[0m\n",
      "\u001b[2m1335559283564453889:\u001b[0m\u001b[35m 🇺🇸trump\u001b[0m https://t.co/P3ctsnhebv\n",
      "\n",
      "\u001b[2m1335565393147080710:\u001b[0m *with\u001b[35m Trump\u001b[0m\n",
      "\n",
      "\u001b[2m1335567431499051010:\u001b[0m @ANINewsUP @ANI If they are farmer than i am\u001b[35m #Trump\u001b[0m\n",
      "\n",
      "\u001b[2m1335572554615033857:\u001b[0m @TheDemCoalition @BuzzFeedNews How about\u001b[35m #Trump\u001b[0m revealing his taxes?\n",
      "\n",
      "\u001b[2m1335568968795516928:\u001b[0m RT @BeNosey: UK HERE, I TOTALLY GET\u001b[35m TRUMP\u001b[0m\u001b[35m #TRUMP\u001b[0m https://t.co/COZIUWFFn6\n",
      "\n",
      "\u001b[2m1335568930216300544:\u001b[0m RT @JoyAnnReid: Nixon was the\u001b[35m Trump\u001b[0m before\u001b[35m Trump.\u001b[0m\n",
      "\n",
      "\u001b[2m1335559344113520640:\u001b[0m RT @BeNosey: Numbers. 17 / 9+1+7 17=Q.\u001b[35m #TRUMP\u001b[0m https://t.co/nkK6aoUBLP https://t.co/b1VMhnk0gy https://t.co/zE4DA0hCM8 https://t.co/HWC8s…\n",
      "\n",
      "\u001b[2m1335571192569270274:\u001b[0m @WarrenWhitlock Except\u001b[35m #Trump\u001b[0m maybe ? :-)\n",
      "\n",
      "\u001b[2m1335571458194542593:\u001b[0m A\u001b[35m trump\u001b[0m fart in action. https://t.co/qomCcGqdCM\n",
      "\n",
      "\u001b[2m1335571179000754177:\u001b[0m @ScottFishman\u001b[35m TRUMP\u001b[0m\n",
      "\n"
     ]
    }
   ],
   "source": [
    "display_ranking(scores, tweetsDict, query, score = \"diversity\", top_k = topk)"
   ]
  },
  {
   "cell_type": "markdown",
   "metadata": {},
   "source": [
    "## 5. Coverage and ranking difference"
   ]
  },
  {
   "cell_type": "markdown",
   "metadata": {},
   "source": [
    "Compute **correlation coefficient** between original (tf-idf score) and diversity score"
   ]
  },
  {
   "cell_type": "code",
   "execution_count": 24,
   "metadata": {},
   "outputs": [
    {
     "name": "stdout",
     "output_type": "stream",
     "text": [
      "Correlation coefficient betweet tf-idf and diversity scores: 0.661\n"
     ]
    }
   ],
   "source": [
    "coef, p = spearmanr(scores[\"tf-idf\"], scores[\"diversity\"])\n",
    "print(\"Correlation coefficient betweet tf-idf and diversity scores: {}\". format(round(coef, 3)))"
   ]
  },
  {
   "cell_type": "markdown",
   "metadata": {},
   "source": [
    "Compute **coverage** for both scores"
   ]
  },
  {
   "cell_type": "code",
   "execution_count": 54,
   "metadata": {},
   "outputs": [],
   "source": [
    "def plot_coverage(df, score, topk):\n",
    "    clusters = df.sort_values(by = score, ascending = False)[:topk][\"Cluster\"]\n",
    "    fig = plt.figure(figsize=(20,5))\n",
    "    clusters.value_counts().plot(kind = \"barh\", color = \"lightblue\")\n",
    "    plt.xlabel(\"Count in top-{}\".format(topk), fontsize=15)\n",
    "    plt.ylabel(\"Clusters\", fontsize=15)\n",
    "    plt.title(\"Clusters coverage using {} score\".format(score), fontsize = 20)\n",
    "    "
   ]
  },
  {
   "cell_type": "code",
   "execution_count": 57,
   "metadata": {},
   "outputs": [
    {
     "data": {
      "image/png": "[encoded data removed]",
      "text/plain": [
       "<Figure size 1440x360 with 1 Axes>"
      ]
     },
     "metadata": {
      "needs_background": "light"
     },
     "output_type": "display_data"
    },
    {
     "data": {
      "image/png": "[encoded data removed]",
      "text/plain": [
       "<Figure size 1440x360 with 1 Axes>"
      ]
     },
     "metadata": {
      "needs_background": "light"
     },
     "output_type": "display_data"
    }
   ],
   "source": [
    "plot_coverage(scores, \"tf-idf\", topk)\n",
    "plot_coverage(scores, \"diversity\", topk)"
   ]
  }
 ],
 "metadata": {
  "kernelspec": {
   "display_name": "Python 3",
   "language": "python",
   "name": "python3"
  },
  "language_info": {
   "codemirror_mode": {
    "name": "ipython",
    "version": 3
   },
   "file_extension": ".py",
   "mimetype": "text/x-python",
   "name": "python",
   "nbconvert_exporter": "python",
   "pygments_lexer": "ipython3",
   "version": "3.7.4"
  }
 },
 "nbformat": 4,
 "nbformat_minor": 4
}
